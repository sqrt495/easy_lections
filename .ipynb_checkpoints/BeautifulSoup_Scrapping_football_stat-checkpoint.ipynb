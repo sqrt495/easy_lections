{
 "cells": [
  {
   "cell_type": "code",
   "execution_count": 78,
   "metadata": {},
   "outputs": [],
   "source": [
    "from bs4 import BeautifulSoup as bs\n",
    "import requests\n",
    "import json\n",
    "import codecs\n",
    "import pandas as pd\n",
    "from pandas.io.json import json_normalize\n",
    "import matplotlib.pyplot as plt\n",
    "import seaborn as sns\n",
    "import numpy as np\n",
    "import re"
   ]
  },
  {
   "cell_type": "code",
   "execution_count": 58,
   "metadata": {},
   "outputs": [],
   "source": [
    "url = 'https://understat.com/league/Serie_A/2014'"
   ]
  },
  {
   "cell_type": "markdown",
   "metadata": {},
   "source": [
    "**парсим всю страницу и отдельно нужные теги (здесь `script`)**"
   ]
  },
  {
   "cell_type": "code",
   "execution_count": 49,
   "metadata": {},
   "outputs": [],
   "source": [
    "page = requests.get(url)\n",
    "soup = bs(page.text, 'html.parser')\n",
    "main_text_doc = soup.prettify()\n",
    "\n",
    "# знаем что нужные данные хранятся в 'script'\n",
    "# вывожу ТОЛЬКО тэги 'script', чтобы еще раз просмотреть на данные\n",
    "scripts = soup.find_all('script')\n",
    "# scripts"
   ]
  },
  {
   "cell_type": "markdown",
   "metadata": {},
   "source": [
    "**берем данные из `scripts`**"
   ]
  },
  {
   "cell_type": "markdown",
   "metadata": {},
   "source": [
    "**[механизм](https://stackoverflow.com/questions/55703531/how-to-scrape-json-data-from-an-interactive-chart)**"
   ]
  },
  {
   "cell_type": "code",
   "execution_count": null,
   "metadata": {},
   "outputs": [],
   "source": [
    "# можно так:\n",
    "# datesData_script = str(soup('script')[1])"
   ]
  },
  {
   "cell_type": "code",
   "execution_count": 72,
   "metadata": {},
   "outputs": [
    {
     "name": "stdout",
     "output_type": "stream",
     "text": [
      "<class 'pandas.core.frame.DataFrame'>\n"
     ]
    }
   ],
   "source": [
    "# можно так:\n",
    "\n",
    "# I noticed the data was imbedded in the script tag that started with `var shotsData`\n",
    "for script in scripts:\n",
    "    if 'var datesData' in script.text:\n",
    "# I store that text, then trim off the string on the ends so that it's in a valid json format\n",
    "        encoded_string = script.text\n",
    "    \n",
    "# можно написать универсальную регулярку, для выделения необходимого куска ASCII\n",
    "        encoded_string  = encoded_string.split(\"JSON.parse('\", 1)[-1]\n",
    "        encoded_string = encoded_string.rsplit(\"'),\",1)[0]\n",
    "\n",
    "\n",
    "# Have it ignore the escape characters so it can decode the ascii and be able to use json.loads\n",
    "        jsonStr = codecs.getdecoder('unicode-escape')(encoded_string)[0]\n",
    "        jsonObj = json.loads(jsonStr)\n",
    "\n",
    "SeriaA_datesData = json_normalize(jsonObj)\n",
    "print(type(SeriaA_datesData))"
   ]
  },
  {
   "cell_type": "code",
   "execution_count": 40,
   "metadata": {},
   "outputs": [
    {
     "name": "stdout",
     "output_type": "stream",
     "text": [
      "<class 'pandas.core.frame.DataFrame'>\n"
     ]
    }
   ],
   "source": [
    "#берем данные из teamsData \n",
    "for script in scripts:\n",
    "    if 'var teamsData' in script.text:\n",
    "        encoded_string = script.text\n",
    "        encoded_string  = encoded_string.split(\"JSON.parse('\", 1)[-1]\n",
    "        encoded_string = encoded_string.rsplit(\"');\",1)[0]\n",
    "        jsonStr = codecs.getdecoder('unicode-escape')(encoded_string)[0]\n",
    "        jsonObj = json.loads(jsonStr)\n",
    "\n",
    "SeriaA_teamsData = json_normalize(jsonObj)\n",
    "print(type(SeriaA_teamsData))\n",
    "\n",
    "# тут данные хранятся совсем в другом порядке, нуждаются в качественном преобразовании\n",
    "# SeriaA_teamsData['100.history'][0]"
   ]
  },
  {
   "cell_type": "code",
   "execution_count": 45,
   "metadata": {},
   "outputs": [
    {
     "name": "stdout",
     "output_type": "stream",
     "text": [
      "<class 'pandas.core.frame.DataFrame'>\n"
     ]
    }
   ],
   "source": [
    "# playersData\n",
    "for script in scripts:\n",
    "    if 'var playersData' in script.text:\n",
    "        encoded_string = script.text\n",
    "        encoded_string  = encoded_string .split(\"JSON.parse('\", 1)[-1]\n",
    "        encoded_string = encoded_string.rsplit(\"');\",1)[0]\n",
    "        jsonStr = codecs.getdecoder('unicode-escape')(encoded_string)[0]\n",
    "        jsonObj = json.loads(jsonStr)\n",
    "\n",
    "SeriaA_playersData = json_normalize(jsonObj)\n",
    "print(type(SeriaA_playersData))\n",
    "# тут понятные данные:\n",
    "# SeriaA_playersData"
   ]
  },
  {
   "cell_type": "markdown",
   "metadata": {},
   "source": [
    "## Парсим много страниц в цикле\n",
    "\n",
    "**создаю список url для парсинга:**"
   ]
  },
  {
   "cell_type": "code",
   "execution_count": 64,
   "metadata": {},
   "outputs": [
    {
     "data": {
      "text/plain": [
       "['EPL', 'La_liga', 'Bundesliga', 'Serie_A', 'Ligue_1', 'RFPL']"
      ]
     },
     "execution_count": 64,
     "metadata": {},
     "output_type": "execute_result"
    }
   ],
   "source": [
    "# составляем список чемпионатов\n",
    "leagues = soup.findAll('li')\n",
    "\n",
    "leagues_list = []\n",
    "for league in leagues[-6:]:\n",
    "#  вытаскиваем текст\n",
    "    league = league.get_text()\n",
    "# заменяем пробелы на '_', это нужно для будущей работы\n",
    "    league = league.replace(' ', '_')\n",
    "# складываем в список\n",
    "    leagues_list.append(league)\n",
    "    \n",
    "leagues_list"
   ]
  },
  {
   "cell_type": "code",
   "execution_count": 67,
   "metadata": {},
   "outputs": [],
   "source": [
    "def create_url_list(url, leagues_list, start_postfix, end_postfix, step):\n",
    "    \"\"\"create url list for scrapping data\"\"\"   \n",
    "    url_list = []\n",
    "    for l in leagues_list:\n",
    "        for i in range(start_postfix, end_postfix, step):\n",
    "            new_url = url + l + '/' + str(i)\n",
    "            url_list.append(new_url)\n",
    "    return url_list"
   ]
  },
  {
   "cell_type": "code",
   "execution_count": 68,
   "metadata": {},
   "outputs": [],
   "source": [
    "url = 'https://understat.com/league/'"
   ]
  },
  {
   "cell_type": "code",
   "execution_count": 73,
   "metadata": {},
   "outputs": [],
   "source": [
    "url_list = create_url_list(url, leagues_list, 2019, 2013, -1)"
   ]
  },
  {
   "cell_type": "code",
   "execution_count": 100,
   "metadata": {},
   "outputs": [
    {
     "data": {
      "text/plain": [
       "'EPL_2017'"
      ]
     },
     "execution_count": 100,
     "metadata": {},
     "output_type": "execute_result"
    }
   ],
   "source": [
    "namer = re.findall(reg, url_list[2])[0] + '_' + re.findall('\\d*$', url_list[2])[0]   \n",
    "namer"
   ]
  },
  {
   "cell_type": "code",
   "execution_count": null,
   "metadata": {},
   "outputs": [],
   "source": [
    "def scrapping_url_list(url_list):\n",
    "    \n",
    "    for url in url_list:\n",
    "        \n",
    "# это чтобы назвыать документы соответствующим образом\n",
    "        reg = '(?<=league/)[\\w]*'\n",
    "        namer = re.findall(reg, url)[0] + '_' + re.findall('\\d*$', url)[0]    \n",
    "        \n",
    "        page = requests.get(url)\n",
    "        soup = bs(page.text, 'html.parser')\n",
    "        scripts = soup.find_all('script')\n",
    "        for script in scripts:\n",
    "            \n",
    "            if 'var datesData' in script.text:\n",
    "                encoded_string = script.text\n",
    "                encoded_string  = encoded_string.split(\"JSON.parse('\", 1)[-1]\n",
    "                encoded_string = encoded_string.rsplit(\"'),\",1)[0]\n",
    "                jsonStr = codecs.getdecoder('unicode-escape')(encoded_string)[0]\n",
    "                jsonObj = json.loads(jsonStr)\n",
    "                datesData = json_normalize(jsonObj)\n",
    "                \n",
    "            if 'var teamsData' in script.text:\n",
    "                encoded_string = script.text\n",
    "                encoded_string  = encoded_string.split(\"JSON.parse('\", 1)[-1]\n",
    "                encoded_string = encoded_string.rsplit(\"');\",1)[0]\n",
    "                jsonStr = codecs.getdecoder('unicode-escape')(encoded_string)[0]\n",
    "                jsonObj = json.loads(jsonStr)\n",
    "                teamsData = json_normalize(jsonObj)\n",
    "                \n",
    "            if 'var playersData' in script.text:\n",
    "                encoded_string = script.text\n",
    "                encoded_string  = encoded_string .split(\"JSON.parse('\", 1)[-1]\n",
    "                encoded_string = encoded_string.rsplit(\"');\",1)[0]\n",
    "                jsonStr = codecs.getdecoder('unicode-escape')(encoded_string)[0]\n",
    "                jsonObj = json.loads(jsonStr)\n",
    "                playersData = json_normalize(jsonObj)\n",
    "                \n",
    "        datesData.to_excel(f'understat_{namer}.xlsx', sheet_name=f'datesData_{namer}')\n",
    "        teamsData.to_excel(f'understat_{namer}.xlsx', sheet_name=f'teamsData_{namer}')\n",
    "        playersData.to_excel(f'understat_{namer}.xlsx', sheet_name=f'playersData_{namer}')\n",
    "                \n"
   ]
  },
  {
   "cell_type": "code",
   "execution_count": 103,
   "metadata": {},
   "outputs": [],
   "source": [
    "# пока сохраняет неправильно\n",
    "url = url_list[2]\n",
    "reg = '(?<=league/)[\\w]*'\n",
    "namer = re.findall(reg, url)[0] + '_' + re.findall('\\d*$', url)[0]    \n",
    "\n",
    "page = requests.get(url)\n",
    "soup = bs(page.text, 'html.parser')\n",
    "scripts = soup.find_all('script')\n",
    "for script in scripts:\n",
    "\n",
    "    if 'var datesData' in script.text:\n",
    "        encoded_string = script.text\n",
    "        encoded_string  = encoded_string.split(\"JSON.parse('\", 1)[-1]\n",
    "        encoded_string = encoded_string.rsplit(\"'),\",1)[0]\n",
    "        jsonStr = codecs.getdecoder('unicode-escape')(encoded_string)[0]\n",
    "        jsonObj = json.loads(jsonStr)\n",
    "        datesData = json_normalize(jsonObj)\n",
    "\n",
    "    if 'var teamsData' in script.text:\n",
    "        encoded_string = script.text\n",
    "        encoded_string  = encoded_string.split(\"JSON.parse('\", 1)[-1]\n",
    "        encoded_string = encoded_string.rsplit(\"');\",1)[0]\n",
    "        jsonStr = codecs.getdecoder('unicode-escape')(encoded_string)[0]\n",
    "        jsonObj = json.loads(jsonStr)\n",
    "        teamsData = json_normalize(jsonObj)\n",
    "\n",
    "    if 'var playersData' in script.text:\n",
    "        encoded_string = script.text\n",
    "        encoded_string  = encoded_string .split(\"JSON.parse('\", 1)[-1]\n",
    "        encoded_string = encoded_string.rsplit(\"');\",1)[0]\n",
    "        jsonStr = codecs.getdecoder('unicode-escape')(encoded_string)[0]\n",
    "        jsonObj = json.loads(jsonStr)\n",
    "        playersData = json_normalize(jsonObj)\n",
    "\n",
    "datesData.to_excel(f'understat_{namer}.xlsx', sheet_name=f'datesData_{namer}')\n",
    "teamsData.to_excel(f'understat_{namer}.xlsx', sheet_name=f'teamsData_{namer}')\n",
    "playersData.to_excel(f'understat_{namer}.xlsx', sheet_name=f'playersData_{namer}')"
   ]
  },
  {
   "cell_type": "markdown",
   "metadata": {},
   "source": [
    "**экспорт в excel**"
   ]
  },
  {
   "cell_type": "markdown",
   "metadata": {},
   "source": [
    "*[пример сохранения на разных листах1](https://stackoverflow.com/questions/41215508/using-loop-to-create-excel-sheets-with-dataframe-pandas)\n",
    "\n",
    "\n",
    "*[пример сохранения на разных листах2](https://xlsxwriter.readthedocs.io/working_with_pandas.html)"
   ]
  },
  {
   "cell_type": "code",
   "execution_count": null,
   "metadata": {},
   "outputs": [],
   "source": [
    "# назначем индексами 'id'\n",
    "# SeriaA_datesData = SeriaA_datesData.set_index('id', drop=True)\n",
    "\n",
    "# экспорт\n",
    "# SeriaA_datesData.to_excel(\"SeriaA_datesData.xlsx\")"
   ]
  }
 ],
 "metadata": {
  "kernelspec": {
   "display_name": "Python 3",
   "language": "python",
   "name": "python3"
  },
  "language_info": {
   "codemirror_mode": {
    "name": "ipython",
    "version": 3
   },
   "file_extension": ".py",
   "mimetype": "text/x-python",
   "name": "python",
   "nbconvert_exporter": "python",
   "pygments_lexer": "ipython3",
   "version": "3.7.3"
  }
 },
 "nbformat": 4,
 "nbformat_minor": 2
}

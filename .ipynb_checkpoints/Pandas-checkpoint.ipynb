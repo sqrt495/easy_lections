{
 "cells": [
  {
   "cell_type": "code",
   "execution_count": 88,
   "metadata": {},
   "outputs": [],
   "source": [
    "import pandas as pd"
   ]
  },
  {
   "cell_type": "code",
   "execution_count": 89,
   "metadata": {},
   "outputs": [
    {
     "name": "stdout",
     "output_type": "stream",
     "text": [
      "Wall time: 0 ns\n"
     ]
    }
   ],
   "source": [
    "%time\n",
    "df = pd.read_html('http://www.cbr.ru')[3]\n",
    "# выводит все таблицы с сайта, здесь 4-я по счету ЦБ"
   ]
  },
  {
   "cell_type": "code",
   "execution_count": 90,
   "metadata": {},
   "outputs": [
    {
     "name": "stdout",
     "output_type": "stream",
     "text": [
      "Wall time: 0 ns\n"
     ]
    },
    {
     "data": {
      "text/html": [
       "<div>\n",
       "<style scoped>\n",
       "    .dataframe tbody tr th:only-of-type {\n",
       "        vertical-align: middle;\n",
       "    }\n",
       "\n",
       "    .dataframe tbody tr th {\n",
       "        vertical-align: top;\n",
       "    }\n",
       "\n",
       "    .dataframe thead th {\n",
       "        text-align: right;\n",
       "    }\n",
       "</style>\n",
       "<table border=\"1\" class=\"dataframe\">\n",
       "  <thead>\n",
       "    <tr style=\"text-align: right;\">\n",
       "      <th></th>\n",
       "      <th>рублей за грамм</th>\n",
       "      <th>14.01.2020</th>\n",
       "    </tr>\n",
       "  </thead>\n",
       "  <tbody>\n",
       "    <tr>\n",
       "      <th>0</th>\n",
       "      <td>Золото Au</td>\n",
       "      <td>↓3 037,92</td>\n",
       "    </tr>\n",
       "    <tr>\n",
       "      <th>1</th>\n",
       "      <td>Серебро Ag</td>\n",
       "      <td>↓35,10</td>\n",
       "    </tr>\n",
       "    <tr>\n",
       "      <th>2</th>\n",
       "      <td>Платина Pt</td>\n",
       "      <td>↓1 896,80</td>\n",
       "    </tr>\n",
       "    <tr>\n",
       "      <th>3</th>\n",
       "      <td>Палладий Pd</td>\n",
       "      <td>↓4 148,27</td>\n",
       "    </tr>\n",
       "  </tbody>\n",
       "</table>\n",
       "</div>"
      ],
      "text/plain": [
       "  рублей за грамм 14.01.2020\n",
       "0       Золото Au  ↓3 037,92\n",
       "1      Серебро Ag     ↓35,10\n",
       "2      Платина Pt  ↓1 896,80\n",
       "3     Палладий Pd  ↓4 148,27"
      ]
     },
     "execution_count": 90,
     "metadata": {},
     "output_type": "execute_result"
    }
   ],
   "source": [
    "%%time\n",
    "df"
   ]
  },
  {
   "cell_type": "code",
   "execution_count": 91,
   "metadata": {},
   "outputs": [
    {
     "data": {
      "text/plain": [
       "numpy.ndarray"
      ]
     },
     "execution_count": 91,
     "metadata": {},
     "output_type": "execute_result"
    }
   ],
   "source": [
    "type(df.values)"
   ]
  },
  {
   "cell_type": "code",
   "execution_count": 92,
   "metadata": {},
   "outputs": [
    {
     "data": {
      "text/plain": [
       "object    2\n",
       "dtype: int64"
      ]
     },
     "execution_count": 92,
     "metadata": {},
     "output_type": "execute_result"
    }
   ],
   "source": [
    "df.dtypes.value_counts()"
   ]
  },
  {
   "cell_type": "markdown",
   "metadata": {},
   "source": [
    "* [Аналитикам: большая шпаргалка по Pandas](https://smysl.io/blog/pandas/)"
   ]
  },
  {
   "cell_type": "code",
   "execution_count": 93,
   "metadata": {},
   "outputs": [
    {
     "name": "stdout",
     "output_type": "stream",
     "text": [
      "Wall time: 0 ns\n"
     ]
    }
   ],
   "source": [
    "%time\n",
    "page_url = 'https://www.finanz.ru/valyuty/usd-rub'\n",
    "\n",
    "# Импортируем нужную нам страницу в df\n",
    "# attrs = {'class': 'news_table'} ---> указываем какой именно блок нам нужен\n",
    "# encoding='utf-8' ---> указываем кодировку страниц для корректного отображения кириллицы\n",
    "\n",
    "df2 = pd.read_html(page_url, attrs = {'class': 'news_table'}, encoding='utf-8')"
   ]
  },
  {
   "cell_type": "code",
   "execution_count": 94,
   "metadata": {},
   "outputs": [
    {
     "data": {
      "text/plain": [
       "[       Дата  Закрытие  Открытие  Максимум  Минимум\n",
       " 0  12.01.20    610595    610595    610595   610095\n",
       " 1  11.01.20    610245    610245    610245   610245\n",
       " 2  10.01.20    610245    613000    613850   608833\n",
       " 3  09.01.20    613012    612395    614041   611216\n",
       " 4  08.01.20    612250    620030    621430   610750\n",
       " 5  07.01.20    619792    617997    621105   616100\n",
       " 6  06.01.20    617835    621980    623450   617420\n",
       " 7  05.01.20    621990    622745    624995   621985\n",
       " 8  03.01.20    620695    617327    622355   617142,\n",
       "        Имя  Unnamed: 1     %    курс                 Дата\n",
       " 0  EUR/RUB         NaN  5636   68251  13.01.2020 23:47:00\n",
       " 1  USD/RUB         NaN  3705  612857  13.01.2020 23:47:00\n",
       " 2  CHF/RUB         NaN  6526  631424  13.01.2020 23:48:00\n",
       " 3  JPY/RUB         NaN    61    5576  13.01.2020 23:48:00\n",
       " 4  GBP/RUB         NaN   694  796646  13.01.2020 23:48:00\n",
       " 5  NOK/RUB         NaN  2986   68921  13.01.2020 23:48:00\n",
       " 6  AUD/RUB         NaN  4904  423236  13.01.2020 23:48:00\n",
       " 7  NZD/RUB         NaN  2419  406386  13.01.2020 23:48:00\n",
       " 8  TRY/RUB         NaN  6156  104521  13.01.2020 23:48:00]"
      ]
     },
     "execution_count": 94,
     "metadata": {},
     "output_type": "execute_result"
    }
   ],
   "source": [
    "df2[:5]"
   ]
  },
  {
   "cell_type": "code",
   "execution_count": 95,
   "metadata": {},
   "outputs": [
    {
     "data": {
      "text/plain": [
       "list"
      ]
     },
     "execution_count": 95,
     "metadata": {},
     "output_type": "execute_result"
    }
   ],
   "source": [
    "type(df2)"
   ]
  },
  {
   "cell_type": "code",
   "execution_count": 96,
   "metadata": {},
   "outputs": [
    {
     "data": {
      "text/plain": [
       "2"
      ]
     },
     "execution_count": 96,
     "metadata": {},
     "output_type": "execute_result"
    }
   ],
   "source": [
    "len(df2)"
   ]
  },
  {
   "cell_type": "code",
   "execution_count": 149,
   "metadata": {},
   "outputs": [
    {
     "name": "stdout",
     "output_type": "stream",
     "text": [
      "тип первого номера списка:\n",
      " {<class 'pandas.core.frame.DataFrame'>} \n",
      "\n",
      "второй номер списка:\n",
      "\n",
      "        Имя  Unnamed: 1     %    курс                 Дата\n",
      "0  EUR/RUB         NaN  5636   68251  13.01.2020 23:47:00\n",
      "1  USD/RUB         NaN  3705  612857  13.01.2020 23:47:00\n",
      "2  CHF/RUB         NaN  6526  631424  13.01.2020 23:48:00\n",
      "3  JPY/RUB         NaN    61    5576  13.01.2020 23:48:00\n",
      "4  GBP/RUB         NaN   694  796646  13.01.2020 23:48:00\n",
      "5  NOK/RUB         NaN  2986   68921  13.01.2020 23:48:00\n",
      "6  AUD/RUB         NaN  4904  423236  13.01.2020 23:48:00\n",
      "7  NZD/RUB         NaN  2419  406386  13.01.2020 23:48:00\n",
      "8  TRY/RUB         NaN  6156  104521  13.01.2020 23:48:00\n"
     ]
    }
   ],
   "source": [
    "a = df2[0]\n",
    "b = df2[1]\n",
    "\n",
    "print(f'тип первого номера списка:\\n',\n",
    "      {type(a)},\n",
    "      '\\n\\nвторой номер списка:\\n\\n',\n",
    "      b)"
   ]
  },
  {
   "cell_type": "code",
   "execution_count": 98,
   "metadata": {},
   "outputs": [
    {
     "data": {
      "text/html": [
       "<div>\n",
       "<style scoped>\n",
       "    .dataframe tbody tr th:only-of-type {\n",
       "        vertical-align: middle;\n",
       "    }\n",
       "\n",
       "    .dataframe tbody tr th {\n",
       "        vertical-align: top;\n",
       "    }\n",
       "\n",
       "    .dataframe thead th {\n",
       "        text-align: right;\n",
       "    }\n",
       "</style>\n",
       "<table border=\"1\" class=\"dataframe\">\n",
       "  <thead>\n",
       "    <tr style=\"text-align: right;\">\n",
       "      <th></th>\n",
       "      <th>Дата</th>\n",
       "      <th>Закрытие</th>\n",
       "      <th>Открытие</th>\n",
       "      <th>Максимум</th>\n",
       "      <th>Минимум</th>\n",
       "    </tr>\n",
       "  </thead>\n",
       "  <tbody>\n",
       "    <tr>\n",
       "      <th>0</th>\n",
       "      <td>12.01.20</td>\n",
       "      <td>610595</td>\n",
       "      <td>610595</td>\n",
       "      <td>610595</td>\n",
       "      <td>610095</td>\n",
       "    </tr>\n",
       "    <tr>\n",
       "      <th>1</th>\n",
       "      <td>11.01.20</td>\n",
       "      <td>610245</td>\n",
       "      <td>610245</td>\n",
       "      <td>610245</td>\n",
       "      <td>610245</td>\n",
       "    </tr>\n",
       "    <tr>\n",
       "      <th>2</th>\n",
       "      <td>10.01.20</td>\n",
       "      <td>610245</td>\n",
       "      <td>613000</td>\n",
       "      <td>613850</td>\n",
       "      <td>608833</td>\n",
       "    </tr>\n",
       "    <tr>\n",
       "      <th>3</th>\n",
       "      <td>09.01.20</td>\n",
       "      <td>613012</td>\n",
       "      <td>612395</td>\n",
       "      <td>614041</td>\n",
       "      <td>611216</td>\n",
       "    </tr>\n",
       "    <tr>\n",
       "      <th>4</th>\n",
       "      <td>08.01.20</td>\n",
       "      <td>612250</td>\n",
       "      <td>620030</td>\n",
       "      <td>621430</td>\n",
       "      <td>610750</td>\n",
       "    </tr>\n",
       "    <tr>\n",
       "      <th>5</th>\n",
       "      <td>07.01.20</td>\n",
       "      <td>619792</td>\n",
       "      <td>617997</td>\n",
       "      <td>621105</td>\n",
       "      <td>616100</td>\n",
       "    </tr>\n",
       "    <tr>\n",
       "      <th>6</th>\n",
       "      <td>06.01.20</td>\n",
       "      <td>617835</td>\n",
       "      <td>621980</td>\n",
       "      <td>623450</td>\n",
       "      <td>617420</td>\n",
       "    </tr>\n",
       "    <tr>\n",
       "      <th>7</th>\n",
       "      <td>05.01.20</td>\n",
       "      <td>621990</td>\n",
       "      <td>622745</td>\n",
       "      <td>624995</td>\n",
       "      <td>621985</td>\n",
       "    </tr>\n",
       "    <tr>\n",
       "      <th>8</th>\n",
       "      <td>03.01.20</td>\n",
       "      <td>620695</td>\n",
       "      <td>617327</td>\n",
       "      <td>622355</td>\n",
       "      <td>617142</td>\n",
       "    </tr>\n",
       "  </tbody>\n",
       "</table>\n",
       "</div>"
      ],
      "text/plain": [
       "       Дата  Закрытие  Открытие  Максимум  Минимум\n",
       "0  12.01.20    610595    610595    610595   610095\n",
       "1  11.01.20    610245    610245    610245   610245\n",
       "2  10.01.20    610245    613000    613850   608833\n",
       "3  09.01.20    613012    612395    614041   611216\n",
       "4  08.01.20    612250    620030    621430   610750\n",
       "5  07.01.20    619792    617997    621105   616100\n",
       "6  06.01.20    617835    621980    623450   617420\n",
       "7  05.01.20    621990    622745    624995   621985\n",
       "8  03.01.20    620695    617327    622355   617142"
      ]
     },
     "execution_count": 98,
     "metadata": {},
     "output_type": "execute_result"
    }
   ],
   "source": [
    "a"
   ]
  },
  {
   "cell_type": "code",
   "execution_count": 99,
   "metadata": {},
   "outputs": [
    {
     "data": {
      "text/plain": [
       "(9, 5)"
      ]
     },
     "execution_count": 99,
     "metadata": {},
     "output_type": "execute_result"
    }
   ],
   "source": [
    "a.shape"
   ]
  },
  {
   "cell_type": "code",
   "execution_count": 100,
   "metadata": {},
   "outputs": [
    {
     "data": {
      "text/plain": [
       "int64     4\n",
       "object    1\n",
       "dtype: int64"
      ]
     },
     "execution_count": 100,
     "metadata": {},
     "output_type": "execute_result"
    }
   ],
   "source": [
    "a.dtypes.value_counts()"
   ]
  },
  {
   "cell_type": "code",
   "execution_count": 101,
   "metadata": {},
   "outputs": [
    {
     "name": "stdout",
     "output_type": "stream",
     "text": [
      "<class 'pandas.core.frame.DataFrame'>\n",
      "RangeIndex: 9 entries, 0 to 8\n",
      "Data columns (total 5 columns):\n",
      "Дата        9 non-null object\n",
      "Закрытие    9 non-null int64\n",
      "Открытие    9 non-null int64\n",
      "Максимум    9 non-null int64\n",
      "Минимум     9 non-null int64\n",
      "dtypes: int64(4), object(1)\n",
      "memory usage: 440.0+ bytes\n"
     ]
    }
   ],
   "source": [
    "a.info()"
   ]
  },
  {
   "cell_type": "code",
   "execution_count": 102,
   "metadata": {},
   "outputs": [
    {
     "data": {
      "text/html": [
       "<div>\n",
       "<style scoped>\n",
       "    .dataframe tbody tr th:only-of-type {\n",
       "        vertical-align: middle;\n",
       "    }\n",
       "\n",
       "    .dataframe tbody tr th {\n",
       "        vertical-align: top;\n",
       "    }\n",
       "\n",
       "    .dataframe thead th {\n",
       "        text-align: right;\n",
       "    }\n",
       "</style>\n",
       "<table border=\"1\" class=\"dataframe\">\n",
       "  <thead>\n",
       "    <tr style=\"text-align: right;\">\n",
       "      <th></th>\n",
       "      <th>Закрытие</th>\n",
       "      <th>Открытие</th>\n",
       "      <th>Максимум</th>\n",
       "      <th>Минимум</th>\n",
       "    </tr>\n",
       "  </thead>\n",
       "  <tbody>\n",
       "    <tr>\n",
       "      <th>count</th>\n",
       "      <td>9.000000</td>\n",
       "      <td>9.000000</td>\n",
       "      <td>9.000000</td>\n",
       "      <td>9.000000</td>\n",
       "    </tr>\n",
       "    <tr>\n",
       "      <th>mean</th>\n",
       "      <td>615184.333333</td>\n",
       "      <td>616257.111111</td>\n",
       "      <td>618007.333333</td>\n",
       "      <td>613754.000000</td>\n",
       "    </tr>\n",
       "    <tr>\n",
       "      <th>std</th>\n",
       "      <td>4849.310827</td>\n",
       "      <td>4834.516301</td>\n",
       "      <td>5775.749107</td>\n",
       "      <td>4521.535138</td>\n",
       "    </tr>\n",
       "    <tr>\n",
       "      <th>min</th>\n",
       "      <td>610245.000000</td>\n",
       "      <td>610245.000000</td>\n",
       "      <td>610245.000000</td>\n",
       "      <td>608833.000000</td>\n",
       "    </tr>\n",
       "    <tr>\n",
       "      <th>25%</th>\n",
       "      <td>610595.000000</td>\n",
       "      <td>612395.000000</td>\n",
       "      <td>613850.000000</td>\n",
       "      <td>610245.000000</td>\n",
       "    </tr>\n",
       "    <tr>\n",
       "      <th>50%</th>\n",
       "      <td>613012.000000</td>\n",
       "      <td>617327.000000</td>\n",
       "      <td>621105.000000</td>\n",
       "      <td>611216.000000</td>\n",
       "    </tr>\n",
       "    <tr>\n",
       "      <th>75%</th>\n",
       "      <td>619792.000000</td>\n",
       "      <td>620030.000000</td>\n",
       "      <td>622355.000000</td>\n",
       "      <td>617142.000000</td>\n",
       "    </tr>\n",
       "    <tr>\n",
       "      <th>max</th>\n",
       "      <td>621990.000000</td>\n",
       "      <td>622745.000000</td>\n",
       "      <td>624995.000000</td>\n",
       "      <td>621985.000000</td>\n",
       "    </tr>\n",
       "  </tbody>\n",
       "</table>\n",
       "</div>"
      ],
      "text/plain": [
       "            Закрытие       Открытие       Максимум        Минимум\n",
       "count       9.000000       9.000000       9.000000       9.000000\n",
       "mean   615184.333333  616257.111111  618007.333333  613754.000000\n",
       "std      4849.310827    4834.516301    5775.749107    4521.535138\n",
       "min    610245.000000  610245.000000  610245.000000  608833.000000\n",
       "25%    610595.000000  612395.000000  613850.000000  610245.000000\n",
       "50%    613012.000000  617327.000000  621105.000000  611216.000000\n",
       "75%    619792.000000  620030.000000  622355.000000  617142.000000\n",
       "max    621990.000000  622745.000000  624995.000000  621985.000000"
      ]
     },
     "execution_count": 102,
     "metadata": {},
     "output_type": "execute_result"
    }
   ],
   "source": [
    "# экспресс-расчет распределения числовых значений\n",
    "\n",
    "a.describe()"
   ]
  },
  {
   "cell_type": "markdown",
   "metadata": {},
   "source": [
    "## Структуры данных: серии и датафреймы\n",
    "\n",
    "\n",
    "**Серии — одномерные массивы данных. Они очень похожи на списки, но отличаются по поведению — например, операции применяются к списку целиком, а в сериях — поэлементно.**\n",
    "\n",
    "\n",
    "То есть, если список умножить на 2, получите тот же список, повторенный 2 раза."
   ]
  },
  {
   "cell_type": "code",
   "execution_count": 103,
   "metadata": {},
   "outputs": [
    {
     "data": {
      "text/plain": [
       "[1, 2, 3, 1, 2, 3]"
      ]
     },
     "execution_count": 103,
     "metadata": {},
     "output_type": "execute_result"
    }
   ],
   "source": [
    "vector = [1, 2, 3]\n",
    "vector * 2"
   ]
  },
  {
   "cell_type": "markdown",
   "metadata": {},
   "source": [
    "А если умножить серию, ее длина не изменится, а вот элементы удвоятся."
   ]
  },
  {
   "cell_type": "code",
   "execution_count": 104,
   "metadata": {},
   "outputs": [
    {
     "data": {
      "text/plain": [
       "0    2\n",
       "1    4\n",
       "2    6\n",
       "dtype: int64"
      ]
     },
     "execution_count": 104,
     "metadata": {},
     "output_type": "execute_result"
    }
   ],
   "source": [
    "series = pd.Series([1, 2, 3])\n",
    "series * 2"
   ]
  },
  {
   "cell_type": "code",
   "execution_count": 105,
   "metadata": {},
   "outputs": [
    {
     "data": {
      "text/plain": [
       "jan    100\n",
       "feb    200\n",
       "mar    300\n",
       "apr    400\n",
       "dtype: int64"
      ]
     },
     "execution_count": 105,
     "metadata": {},
     "output_type": "execute_result"
    }
   ],
   "source": [
    "months = ['jan', 'feb', 'mar', 'apr']\n",
    "sales = [100, 200, 300, 400]\n",
    "data = pd.Series(data=sales, index=months)\n",
    "data"
   ]
  },
  {
   "cell_type": "code",
   "execution_count": 106,
   "metadata": {},
   "outputs": [
    {
     "data": {
      "text/plain": [
       "200"
      ]
     },
     "execution_count": 106,
     "metadata": {},
     "output_type": "execute_result"
    }
   ],
   "source": [
    " data['feb']"
   ]
  },
  {
   "cell_type": "markdown",
   "metadata": {},
   "source": [
    "#### Вернемся к `a` и `b`"
   ]
  },
  {
   "cell_type": "code",
   "execution_count": 107,
   "metadata": {},
   "outputs": [
    {
     "data": {
      "text/html": [
       "<div>\n",
       "<style scoped>\n",
       "    .dataframe tbody tr th:only-of-type {\n",
       "        vertical-align: middle;\n",
       "    }\n",
       "\n",
       "    .dataframe tbody tr th {\n",
       "        vertical-align: top;\n",
       "    }\n",
       "\n",
       "    .dataframe thead th {\n",
       "        text-align: right;\n",
       "    }\n",
       "</style>\n",
       "<table border=\"1\" class=\"dataframe\">\n",
       "  <thead>\n",
       "    <tr style=\"text-align: right;\">\n",
       "      <th></th>\n",
       "      <th>Дата</th>\n",
       "      <th>Закрытие</th>\n",
       "      <th>Открытие</th>\n",
       "      <th>Максимум</th>\n",
       "      <th>Минимум</th>\n",
       "    </tr>\n",
       "  </thead>\n",
       "  <tbody>\n",
       "    <tr>\n",
       "      <th>0</th>\n",
       "      <td>12.01.20</td>\n",
       "      <td>610595</td>\n",
       "      <td>610595</td>\n",
       "      <td>610595</td>\n",
       "      <td>610095</td>\n",
       "    </tr>\n",
       "    <tr>\n",
       "      <th>1</th>\n",
       "      <td>11.01.20</td>\n",
       "      <td>610245</td>\n",
       "      <td>610245</td>\n",
       "      <td>610245</td>\n",
       "      <td>610245</td>\n",
       "    </tr>\n",
       "    <tr>\n",
       "      <th>2</th>\n",
       "      <td>10.01.20</td>\n",
       "      <td>610245</td>\n",
       "      <td>613000</td>\n",
       "      <td>613850</td>\n",
       "      <td>608833</td>\n",
       "    </tr>\n",
       "    <tr>\n",
       "      <th>3</th>\n",
       "      <td>09.01.20</td>\n",
       "      <td>613012</td>\n",
       "      <td>612395</td>\n",
       "      <td>614041</td>\n",
       "      <td>611216</td>\n",
       "    </tr>\n",
       "    <tr>\n",
       "      <th>4</th>\n",
       "      <td>08.01.20</td>\n",
       "      <td>612250</td>\n",
       "      <td>620030</td>\n",
       "      <td>621430</td>\n",
       "      <td>610750</td>\n",
       "    </tr>\n",
       "    <tr>\n",
       "      <th>5</th>\n",
       "      <td>07.01.20</td>\n",
       "      <td>619792</td>\n",
       "      <td>617997</td>\n",
       "      <td>621105</td>\n",
       "      <td>616100</td>\n",
       "    </tr>\n",
       "    <tr>\n",
       "      <th>6</th>\n",
       "      <td>06.01.20</td>\n",
       "      <td>617835</td>\n",
       "      <td>621980</td>\n",
       "      <td>623450</td>\n",
       "      <td>617420</td>\n",
       "    </tr>\n",
       "    <tr>\n",
       "      <th>7</th>\n",
       "      <td>05.01.20</td>\n",
       "      <td>621990</td>\n",
       "      <td>622745</td>\n",
       "      <td>624995</td>\n",
       "      <td>621985</td>\n",
       "    </tr>\n",
       "    <tr>\n",
       "      <th>8</th>\n",
       "      <td>03.01.20</td>\n",
       "      <td>620695</td>\n",
       "      <td>617327</td>\n",
       "      <td>622355</td>\n",
       "      <td>617142</td>\n",
       "    </tr>\n",
       "  </tbody>\n",
       "</table>\n",
       "</div>"
      ],
      "text/plain": [
       "       Дата  Закрытие  Открытие  Максимум  Минимум\n",
       "0  12.01.20    610595    610595    610595   610095\n",
       "1  11.01.20    610245    610245    610245   610245\n",
       "2  10.01.20    610245    613000    613850   608833\n",
       "3  09.01.20    613012    612395    614041   611216\n",
       "4  08.01.20    612250    620030    621430   610750\n",
       "5  07.01.20    619792    617997    621105   616100\n",
       "6  06.01.20    617835    621980    623450   617420\n",
       "7  05.01.20    621990    622745    624995   621985\n",
       "8  03.01.20    620695    617327    622355   617142"
      ]
     },
     "execution_count": 107,
     "metadata": {},
     "output_type": "execute_result"
    }
   ],
   "source": [
    "a"
   ]
  },
  {
   "cell_type": "code",
   "execution_count": 108,
   "metadata": {},
   "outputs": [
    {
     "data": {
      "text/html": [
       "<div>\n",
       "<style scoped>\n",
       "    .dataframe tbody tr th:only-of-type {\n",
       "        vertical-align: middle;\n",
       "    }\n",
       "\n",
       "    .dataframe tbody tr th {\n",
       "        vertical-align: top;\n",
       "    }\n",
       "\n",
       "    .dataframe thead th {\n",
       "        text-align: right;\n",
       "    }\n",
       "</style>\n",
       "<table border=\"1\" class=\"dataframe\">\n",
       "  <thead>\n",
       "    <tr style=\"text-align: right;\">\n",
       "      <th></th>\n",
       "      <th>Имя</th>\n",
       "      <th>Unnamed: 1</th>\n",
       "      <th>%</th>\n",
       "      <th>курс</th>\n",
       "      <th>Дата</th>\n",
       "    </tr>\n",
       "  </thead>\n",
       "  <tbody>\n",
       "    <tr>\n",
       "      <th>0</th>\n",
       "      <td>EUR/RUB</td>\n",
       "      <td>NaN</td>\n",
       "      <td>5636</td>\n",
       "      <td>68251</td>\n",
       "      <td>13.01.2020 23:47:00</td>\n",
       "    </tr>\n",
       "    <tr>\n",
       "      <th>1</th>\n",
       "      <td>USD/RUB</td>\n",
       "      <td>NaN</td>\n",
       "      <td>3705</td>\n",
       "      <td>612857</td>\n",
       "      <td>13.01.2020 23:47:00</td>\n",
       "    </tr>\n",
       "    <tr>\n",
       "      <th>2</th>\n",
       "      <td>CHF/RUB</td>\n",
       "      <td>NaN</td>\n",
       "      <td>6526</td>\n",
       "      <td>631424</td>\n",
       "      <td>13.01.2020 23:48:00</td>\n",
       "    </tr>\n",
       "    <tr>\n",
       "      <th>3</th>\n",
       "      <td>JPY/RUB</td>\n",
       "      <td>NaN</td>\n",
       "      <td>61</td>\n",
       "      <td>5576</td>\n",
       "      <td>13.01.2020 23:48:00</td>\n",
       "    </tr>\n",
       "    <tr>\n",
       "      <th>4</th>\n",
       "      <td>GBP/RUB</td>\n",
       "      <td>NaN</td>\n",
       "      <td>694</td>\n",
       "      <td>796646</td>\n",
       "      <td>13.01.2020 23:48:00</td>\n",
       "    </tr>\n",
       "    <tr>\n",
       "      <th>5</th>\n",
       "      <td>NOK/RUB</td>\n",
       "      <td>NaN</td>\n",
       "      <td>2986</td>\n",
       "      <td>68921</td>\n",
       "      <td>13.01.2020 23:48:00</td>\n",
       "    </tr>\n",
       "    <tr>\n",
       "      <th>6</th>\n",
       "      <td>AUD/RUB</td>\n",
       "      <td>NaN</td>\n",
       "      <td>4904</td>\n",
       "      <td>423236</td>\n",
       "      <td>13.01.2020 23:48:00</td>\n",
       "    </tr>\n",
       "    <tr>\n",
       "      <th>7</th>\n",
       "      <td>NZD/RUB</td>\n",
       "      <td>NaN</td>\n",
       "      <td>2419</td>\n",
       "      <td>406386</td>\n",
       "      <td>13.01.2020 23:48:00</td>\n",
       "    </tr>\n",
       "    <tr>\n",
       "      <th>8</th>\n",
       "      <td>TRY/RUB</td>\n",
       "      <td>NaN</td>\n",
       "      <td>6156</td>\n",
       "      <td>104521</td>\n",
       "      <td>13.01.2020 23:48:00</td>\n",
       "    </tr>\n",
       "  </tbody>\n",
       "</table>\n",
       "</div>"
      ],
      "text/plain": [
       "       Имя  Unnamed: 1     %    курс                 Дата\n",
       "0  EUR/RUB         NaN  5636   68251  13.01.2020 23:47:00\n",
       "1  USD/RUB         NaN  3705  612857  13.01.2020 23:47:00\n",
       "2  CHF/RUB         NaN  6526  631424  13.01.2020 23:48:00\n",
       "3  JPY/RUB         NaN    61    5576  13.01.2020 23:48:00\n",
       "4  GBP/RUB         NaN   694  796646  13.01.2020 23:48:00\n",
       "5  NOK/RUB         NaN  2986   68921  13.01.2020 23:48:00\n",
       "6  AUD/RUB         NaN  4904  423236  13.01.2020 23:48:00\n",
       "7  NZD/RUB         NaN  2419  406386  13.01.2020 23:48:00\n",
       "8  TRY/RUB         NaN  6156  104521  13.01.2020 23:48:00"
      ]
     },
     "execution_count": 108,
     "metadata": {},
     "output_type": "execute_result"
    }
   ],
   "source": [
    "b"
   ]
  },
  {
   "cell_type": "code",
   "execution_count": 109,
   "metadata": {},
   "outputs": [
    {
     "name": "stdout",
     "output_type": "stream",
     "text": [
      "<class 'pandas.core.frame.DataFrame'>\n",
      "RangeIndex: 9 entries, 0 to 8\n",
      "Data columns (total 5 columns):\n",
      "Имя           9 non-null object\n",
      "Unnamed: 1    0 non-null float64\n",
      "%             9 non-null int64\n",
      "курс          9 non-null int64\n",
      "Дата          9 non-null object\n",
      "dtypes: float64(1), int64(2), object(2)\n",
      "memory usage: 440.0+ bytes\n"
     ]
    }
   ],
   "source": [
    "b.info()"
   ]
  },
  {
   "cell_type": "markdown",
   "metadata": {},
   "source": [
    "Чтобы выбрать строки, значение столбца которых равно скаляру, `some_value`, используйте `==`"
   ]
  },
  {
   "cell_type": "code",
   "execution_count": 110,
   "metadata": {},
   "outputs": [
    {
     "data": {
      "text/html": [
       "<div>\n",
       "<style scoped>\n",
       "    .dataframe tbody tr th:only-of-type {\n",
       "        vertical-align: middle;\n",
       "    }\n",
       "\n",
       "    .dataframe tbody tr th {\n",
       "        vertical-align: top;\n",
       "    }\n",
       "\n",
       "    .dataframe thead th {\n",
       "        text-align: right;\n",
       "    }\n",
       "</style>\n",
       "<table border=\"1\" class=\"dataframe\">\n",
       "  <thead>\n",
       "    <tr style=\"text-align: right;\">\n",
       "      <th></th>\n",
       "      <th>Имя</th>\n",
       "      <th>Unnamed: 1</th>\n",
       "      <th>%</th>\n",
       "      <th>курс</th>\n",
       "      <th>Дата</th>\n",
       "    </tr>\n",
       "  </thead>\n",
       "  <tbody>\n",
       "    <tr>\n",
       "      <th>5</th>\n",
       "      <td>NOK/RUB</td>\n",
       "      <td>NaN</td>\n",
       "      <td>2986</td>\n",
       "      <td>68921</td>\n",
       "      <td>13.01.2020 23:48:00</td>\n",
       "    </tr>\n",
       "  </tbody>\n",
       "</table>\n",
       "</div>"
      ],
      "text/plain": [
       "       Имя  Unnamed: 1     %   курс                 Дата\n",
       "5  NOK/RUB         NaN  2986  68921  13.01.2020 23:48:00"
      ]
     },
     "execution_count": 110,
     "metadata": {},
     "output_type": "execute_result"
    }
   ],
   "source": [
    "b.loc[b['Имя'] == 'NOK/RUB']"
   ]
  },
  {
   "cell_type": "code",
   "execution_count": 111,
   "metadata": {},
   "outputs": [
    {
     "data": {
      "text/html": [
       "<div>\n",
       "<style scoped>\n",
       "    .dataframe tbody tr th:only-of-type {\n",
       "        vertical-align: middle;\n",
       "    }\n",
       "\n",
       "    .dataframe tbody tr th {\n",
       "        vertical-align: top;\n",
       "    }\n",
       "\n",
       "    .dataframe thead th {\n",
       "        text-align: right;\n",
       "    }\n",
       "</style>\n",
       "<table border=\"1\" class=\"dataframe\">\n",
       "  <thead>\n",
       "    <tr style=\"text-align: right;\">\n",
       "      <th></th>\n",
       "      <th>Имя</th>\n",
       "      <th>Unnamed: 1</th>\n",
       "      <th>%</th>\n",
       "      <th>курс</th>\n",
       "      <th>Дата</th>\n",
       "    </tr>\n",
       "  </thead>\n",
       "  <tbody>\n",
       "    <tr>\n",
       "      <th>0</th>\n",
       "      <td>EUR/RUB</td>\n",
       "      <td>NaN</td>\n",
       "      <td>5636</td>\n",
       "      <td>68251</td>\n",
       "      <td>13.01.2020 23:47:00</td>\n",
       "    </tr>\n",
       "    <tr>\n",
       "      <th>3</th>\n",
       "      <td>JPY/RUB</td>\n",
       "      <td>NaN</td>\n",
       "      <td>61</td>\n",
       "      <td>5576</td>\n",
       "      <td>13.01.2020 23:48:00</td>\n",
       "    </tr>\n",
       "    <tr>\n",
       "      <th>5</th>\n",
       "      <td>NOK/RUB</td>\n",
       "      <td>NaN</td>\n",
       "      <td>2986</td>\n",
       "      <td>68921</td>\n",
       "      <td>13.01.2020 23:48:00</td>\n",
       "    </tr>\n",
       "    <tr>\n",
       "      <th>8</th>\n",
       "      <td>TRY/RUB</td>\n",
       "      <td>NaN</td>\n",
       "      <td>6156</td>\n",
       "      <td>104521</td>\n",
       "      <td>13.01.2020 23:48:00</td>\n",
       "    </tr>\n",
       "  </tbody>\n",
       "</table>\n",
       "</div>"
      ],
      "text/plain": [
       "       Имя  Unnamed: 1     %    курс                 Дата\n",
       "0  EUR/RUB         NaN  5636   68251  13.01.2020 23:47:00\n",
       "3  JPY/RUB         NaN    61    5576  13.01.2020 23:48:00\n",
       "5  NOK/RUB         NaN  2986   68921  13.01.2020 23:48:00\n",
       "8  TRY/RUB         NaN  6156  104521  13.01.2020 23:48:00"
      ]
     },
     "execution_count": 111,
     "metadata": {},
     "output_type": "execute_result"
    }
   ],
   "source": [
    "b[b['курс'] < 300000]"
   ]
  },
  {
   "cell_type": "markdown",
   "metadata": {},
   "source": [
    "Чтобы выбрать строки, чье значение столбца находится в итерируемой `some_values`, используйте `isin`.\n",
    "\n",
    "\n",
    "Значения подаются в списке."
   ]
  },
  {
   "cell_type": "code",
   "execution_count": 112,
   "metadata": {},
   "outputs": [
    {
     "data": {
      "text/html": [
       "<div>\n",
       "<style scoped>\n",
       "    .dataframe tbody tr th:only-of-type {\n",
       "        vertical-align: middle;\n",
       "    }\n",
       "\n",
       "    .dataframe tbody tr th {\n",
       "        vertical-align: top;\n",
       "    }\n",
       "\n",
       "    .dataframe thead th {\n",
       "        text-align: right;\n",
       "    }\n",
       "</style>\n",
       "<table border=\"1\" class=\"dataframe\">\n",
       "  <thead>\n",
       "    <tr style=\"text-align: right;\">\n",
       "      <th></th>\n",
       "      <th>Имя</th>\n",
       "      <th>Unnamed: 1</th>\n",
       "      <th>%</th>\n",
       "      <th>курс</th>\n",
       "      <th>Дата</th>\n",
       "    </tr>\n",
       "  </thead>\n",
       "  <tbody>\n",
       "    <tr>\n",
       "      <th>1</th>\n",
       "      <td>USD/RUB</td>\n",
       "      <td>NaN</td>\n",
       "      <td>3705</td>\n",
       "      <td>612857</td>\n",
       "      <td>13.01.2020 23:47:00</td>\n",
       "    </tr>\n",
       "    <tr>\n",
       "      <th>5</th>\n",
       "      <td>NOK/RUB</td>\n",
       "      <td>NaN</td>\n",
       "      <td>2986</td>\n",
       "      <td>68921</td>\n",
       "      <td>13.01.2020 23:48:00</td>\n",
       "    </tr>\n",
       "    <tr>\n",
       "      <th>7</th>\n",
       "      <td>NZD/RUB</td>\n",
       "      <td>NaN</td>\n",
       "      <td>2419</td>\n",
       "      <td>406386</td>\n",
       "      <td>13.01.2020 23:48:00</td>\n",
       "    </tr>\n",
       "  </tbody>\n",
       "</table>\n",
       "</div>"
      ],
      "text/plain": [
       "       Имя  Unnamed: 1     %    курс                 Дата\n",
       "1  USD/RUB         NaN  3705  612857  13.01.2020 23:47:00\n",
       "5  NOK/RUB         NaN  2986   68921  13.01.2020 23:48:00\n",
       "7  NZD/RUB         NaN  2419  406386  13.01.2020 23:48:00"
      ]
     },
     "execution_count": 112,
     "metadata": {},
     "output_type": "execute_result"
    }
   ],
   "source": [
    "b.loc[b['Имя'].isin(['NOK/RUB', 'USD/RUB', 'NZD/RUB'])]"
   ]
  },
  {
   "cell_type": "markdown",
   "metadata": {},
   "source": [
    "### [дальше](https://overcoder.net/q/3301/%D0%B2%D1%8B%D0%B1%D0%B5%D1%80%D0%B8%D1%82%D0%B5-%D1%81%D1%82%D1%80%D0%BE%D0%BA%D0%B8-%D0%B2-dataframe-%D0%BD%D0%B0-%D0%BE%D1%81%D0%BD%D0%BE%D0%B2%D0%B5-%D0%B7%D0%BD%D0%B0%D1%87%D0%B5%D0%BD%D0%B8%D0%B9-%D0%B2-%D1%81%D1%82%D0%BE%D0%BB%D0%B1%D1%86%D0%B5-%D0%B2-%D0%BF%D0%B0%D0%BD%D0%B4%D0%B0%D1%85)"
   ]
  },
  {
   "cell_type": "code",
   "execution_count": null,
   "metadata": {},
   "outputs": [],
   "source": []
  },
  {
   "cell_type": "markdown",
   "metadata": {},
   "source": [
    "[Get all rows in a Pandas DataFrame containing given substring](https://www.geeksforgeeks.org/get-all-rows-in-a-pandas-dataframe-containing-given-substring/)"
   ]
  },
  {
   "cell_type": "code",
   "execution_count": 150,
   "metadata": {},
   "outputs": [
    {
     "data": {
      "text/html": [
       "<div>\n",
       "<style scoped>\n",
       "    .dataframe tbody tr th:only-of-type {\n",
       "        vertical-align: middle;\n",
       "    }\n",
       "\n",
       "    .dataframe tbody tr th {\n",
       "        vertical-align: top;\n",
       "    }\n",
       "\n",
       "    .dataframe thead th {\n",
       "        text-align: right;\n",
       "    }\n",
       "</style>\n",
       "<table border=\"1\" class=\"dataframe\">\n",
       "  <thead>\n",
       "    <tr style=\"text-align: right;\">\n",
       "      <th></th>\n",
       "      <th>Имя</th>\n",
       "      <th>Unnamed: 1</th>\n",
       "      <th>%</th>\n",
       "      <th>курс</th>\n",
       "      <th>Дата</th>\n",
       "    </tr>\n",
       "  </thead>\n",
       "  <tbody>\n",
       "    <tr>\n",
       "      <th>0</th>\n",
       "      <td>EUR/RUB</td>\n",
       "      <td>NaN</td>\n",
       "      <td>5636</td>\n",
       "      <td>68251</td>\n",
       "      <td>13.01.2020 23:47:00</td>\n",
       "    </tr>\n",
       "    <tr>\n",
       "      <th>1</th>\n",
       "      <td>USD/RUB</td>\n",
       "      <td>NaN</td>\n",
       "      <td>3705</td>\n",
       "      <td>612857</td>\n",
       "      <td>13.01.2020 23:47:00</td>\n",
       "    </tr>\n",
       "    <tr>\n",
       "      <th>2</th>\n",
       "      <td>CHF/RUB</td>\n",
       "      <td>NaN</td>\n",
       "      <td>6526</td>\n",
       "      <td>631424</td>\n",
       "      <td>13.01.2020 23:48:00</td>\n",
       "    </tr>\n",
       "    <tr>\n",
       "      <th>3</th>\n",
       "      <td>JPY/RUB</td>\n",
       "      <td>NaN</td>\n",
       "      <td>61</td>\n",
       "      <td>5576</td>\n",
       "      <td>13.01.2020 23:48:00</td>\n",
       "    </tr>\n",
       "    <tr>\n",
       "      <th>4</th>\n",
       "      <td>GBP/RUB</td>\n",
       "      <td>NaN</td>\n",
       "      <td>694</td>\n",
       "      <td>796646</td>\n",
       "      <td>13.01.2020 23:48:00</td>\n",
       "    </tr>\n",
       "    <tr>\n",
       "      <th>5</th>\n",
       "      <td>NOK/RUB</td>\n",
       "      <td>NaN</td>\n",
       "      <td>2986</td>\n",
       "      <td>68921</td>\n",
       "      <td>13.01.2020 23:48:00</td>\n",
       "    </tr>\n",
       "    <tr>\n",
       "      <th>6</th>\n",
       "      <td>AUD/RUB</td>\n",
       "      <td>NaN</td>\n",
       "      <td>4904</td>\n",
       "      <td>423236</td>\n",
       "      <td>13.01.2020 23:48:00</td>\n",
       "    </tr>\n",
       "    <tr>\n",
       "      <th>7</th>\n",
       "      <td>NZD/RUB</td>\n",
       "      <td>NaN</td>\n",
       "      <td>2419</td>\n",
       "      <td>406386</td>\n",
       "      <td>13.01.2020 23:48:00</td>\n",
       "    </tr>\n",
       "    <tr>\n",
       "      <th>8</th>\n",
       "      <td>TRY/RUB</td>\n",
       "      <td>NaN</td>\n",
       "      <td>6156</td>\n",
       "      <td>104521</td>\n",
       "      <td>13.01.2020 23:48:00</td>\n",
       "    </tr>\n",
       "  </tbody>\n",
       "</table>\n",
       "</div>"
      ],
      "text/plain": [
       "       Имя  Unnamed: 1     %    курс                 Дата\n",
       "0  EUR/RUB         NaN  5636   68251  13.01.2020 23:47:00\n",
       "1  USD/RUB         NaN  3705  612857  13.01.2020 23:47:00\n",
       "2  CHF/RUB         NaN  6526  631424  13.01.2020 23:48:00\n",
       "3  JPY/RUB         NaN    61    5576  13.01.2020 23:48:00\n",
       "4  GBP/RUB         NaN   694  796646  13.01.2020 23:48:00\n",
       "5  NOK/RUB         NaN  2986   68921  13.01.2020 23:48:00\n",
       "6  AUD/RUB         NaN  4904  423236  13.01.2020 23:48:00\n",
       "7  NZD/RUB         NaN  2419  406386  13.01.2020 23:48:00\n",
       "8  TRY/RUB         NaN  6156  104521  13.01.2020 23:48:00"
      ]
     },
     "execution_count": 150,
     "metadata": {},
     "output_type": "execute_result"
    }
   ],
   "source": [
    "new_b = b[b['Имя'].str.contains(\"RUB\")]\n",
    "new_b"
   ]
  },
  {
   "cell_type": "code",
   "execution_count": 157,
   "metadata": {},
   "outputs": [
    {
     "data": {
      "text/html": [
       "<div>\n",
       "<style scoped>\n",
       "    .dataframe tbody tr th:only-of-type {\n",
       "        vertical-align: middle;\n",
       "    }\n",
       "\n",
       "    .dataframe tbody tr th {\n",
       "        vertical-align: top;\n",
       "    }\n",
       "\n",
       "    .dataframe thead th {\n",
       "        text-align: right;\n",
       "    }\n",
       "</style>\n",
       "<table border=\"1\" class=\"dataframe\">\n",
       "  <thead>\n",
       "    <tr style=\"text-align: right;\">\n",
       "      <th></th>\n",
       "      <th>Имя</th>\n",
       "      <th>Unnamed: 1</th>\n",
       "      <th>%</th>\n",
       "      <th>курс</th>\n",
       "      <th>Дата</th>\n",
       "    </tr>\n",
       "  </thead>\n",
       "  <tbody>\n",
       "    <tr>\n",
       "      <th>4</th>\n",
       "      <td>GBP/RUB</td>\n",
       "      <td>NaN</td>\n",
       "      <td>694</td>\n",
       "      <td>796646</td>\n",
       "      <td>13.01.2020 23:48:00</td>\n",
       "    </tr>\n",
       "  </tbody>\n",
       "</table>\n",
       "</div>"
      ],
      "text/plain": [
       "       Имя  Unnamed: 1    %    курс                 Дата\n",
       "4  GBP/RUB         NaN  694  796646  13.01.2020 23:48:00"
      ]
     },
     "execution_count": 157,
     "metadata": {},
     "output_type": "execute_result"
    }
   ],
   "source": [
    "no_b = b[b['Имя'].str.contains('GBP')]\n",
    "no_b"
   ]
  },
  {
   "cell_type": "markdown",
   "metadata": {},
   "source": [
    "[Using iloc, loc, & ix to select rows and columns in Pandas DataFrames](https://www.shanelynn.ie/select-pandas-dataframe-rows-and-columns-using-iloc-loc-and-ix/)"
   ]
  },
  {
   "cell_type": "markdown",
   "metadata": {},
   "source": [
    "[How To Filter Pandas Dataframe By Values of Column?](https://cmdlinetips.com/2018/02/how-to-subset-pandas-dataframe-based-on-values-of-a-column/)"
   ]
  },
  {
   "cell_type": "markdown",
   "metadata": {},
   "source": [
    "[Indexing and Selecting Data with Pandas](https://www.geeksforgeeks.org/indexing-and-selecting-data-with-pandas/)"
   ]
  },
  {
   "cell_type": "markdown",
   "metadata": {},
   "source": [
    "[How to apply a function to two columns of Pandas dataframe](https://stackoverflow.com/questions/13331698/how-to-apply-a-function-to-two-columns-of-pandas-dataframe)"
   ]
  },
  {
   "cell_type": "markdown",
   "metadata": {},
   "source": [
    "[Get column name where value is something in pandas dataframe](https://stackoverflow.com/questions/14734695/get-column-name-where-value-is-something-in-pandas-dataframe)"
   ]
  },
  {
   "cell_type": "markdown",
   "metadata": {},
   "source": [
    "[Pandas: Apply a function to single or selected columns or rows in Dataframe](https://thispointer.com/pandas-apply-a-function-to-single-or-selected-columns-or-rows-in-dataframe/)"
   ]
  },
  {
   "cell_type": "markdown",
   "metadata": {},
   "source": [
    "[Select by partial string from a pandas DataFrame](https://stackoverflow.com/questions/11350770/select-by-partial-string-from-a-pandas-dataframe)"
   ]
  },
  {
   "cell_type": "code",
   "execution_count": null,
   "metadata": {},
   "outputs": [],
   "source": []
  },
  {
   "cell_type": "code",
   "execution_count": null,
   "metadata": {},
   "outputs": [],
   "source": []
  },
  {
   "cell_type": "code",
   "execution_count": null,
   "metadata": {},
   "outputs": [],
   "source": []
  },
  {
   "cell_type": "code",
   "execution_count": null,
   "metadata": {},
   "outputs": [],
   "source": []
  },
  {
   "cell_type": "code",
   "execution_count": null,
   "metadata": {},
   "outputs": [],
   "source": []
  },
  {
   "cell_type": "code",
   "execution_count": null,
   "metadata": {},
   "outputs": [],
   "source": []
  },
  {
   "cell_type": "code",
   "execution_count": null,
   "metadata": {},
   "outputs": [],
   "source": []
  },
  {
   "cell_type": "code",
   "execution_count": null,
   "metadata": {},
   "outputs": [],
   "source": []
  },
  {
   "cell_type": "markdown",
   "metadata": {},
   "source": [
    "## Функция, чтобы достать названия столюцов соответствующих значению:"
   ]
  },
  {
   "cell_type": "markdown",
   "metadata": {},
   "source": [
    "исходный код с устаревшим синтаксисом [здесь](https://stackoverflow.com/questions/14734695/get-column-name-where-value-is-something-in-pandas-dataframe)"
   ]
  },
  {
   "cell_type": "code",
   "execution_count": 114,
   "metadata": {},
   "outputs": [
    {
     "data": {
      "text/html": [
       "<div>\n",
       "<style scoped>\n",
       "    .dataframe tbody tr th:only-of-type {\n",
       "        vertical-align: middle;\n",
       "    }\n",
       "\n",
       "    .dataframe tbody tr th {\n",
       "        vertical-align: top;\n",
       "    }\n",
       "\n",
       "    .dataframe thead th {\n",
       "        text-align: right;\n",
       "    }\n",
       "</style>\n",
       "<table border=\"1\" class=\"dataframe\">\n",
       "  <thead>\n",
       "    <tr style=\"text-align: right;\">\n",
       "      <th></th>\n",
       "      <th>user_id</th>\n",
       "      <th>clicks</th>\n",
       "      <th>order</th>\n",
       "      <th>orders2</th>\n",
       "    </tr>\n",
       "  </thead>\n",
       "  <tbody>\n",
       "    <tr>\n",
       "      <th>0</th>\n",
       "      <td>1</td>\n",
       "      <td>163</td>\n",
       "      <td>2</td>\n",
       "      <td>0</td>\n",
       "    </tr>\n",
       "    <tr>\n",
       "      <th>1</th>\n",
       "      <td>2</td>\n",
       "      <td>130</td>\n",
       "      <td>4</td>\n",
       "      <td>1</td>\n",
       "    </tr>\n",
       "    <tr>\n",
       "      <th>2</th>\n",
       "      <td>3</td>\n",
       "      <td>97</td>\n",
       "      <td>0</td>\n",
       "      <td>1</td>\n",
       "    </tr>\n",
       "  </tbody>\n",
       "</table>\n",
       "</div>"
      ],
      "text/plain": [
       "   user_id  clicks  order  orders2\n",
       "0        1     163      2        0\n",
       "1        2     130      4        1\n",
       "2        3      97      0        1"
      ]
     },
     "execution_count": 114,
     "metadata": {},
     "output_type": "execute_result"
    }
   ],
   "source": [
    "import pandas as pd\n",
    "df = pd.DataFrame({'user_id': [1, 2, 3], 'clicks': [163, 130, 97], 'order': [2, 4, 0],'orders2': [0, 1, 1]})\n",
    "df"
   ]
  },
  {
   "cell_type": "code",
   "execution_count": 115,
   "metadata": {},
   "outputs": [],
   "source": [
    "df_result = pd.DataFrame({'value': [2,1,0]})"
   ]
  },
  {
   "cell_type": "code",
   "execution_count": 116,
   "metadata": {},
   "outputs": [
    {
     "data": {
      "text/html": [
       "<div>\n",
       "<style scoped>\n",
       "    .dataframe tbody tr th:only-of-type {\n",
       "        vertical-align: middle;\n",
       "    }\n",
       "\n",
       "    .dataframe tbody tr th {\n",
       "        vertical-align: top;\n",
       "    }\n",
       "\n",
       "    .dataframe thead th {\n",
       "        text-align: right;\n",
       "    }\n",
       "</style>\n",
       "<table border=\"1\" class=\"dataframe\">\n",
       "  <thead>\n",
       "    <tr style=\"text-align: right;\">\n",
       "      <th></th>\n",
       "      <th>value</th>\n",
       "    </tr>\n",
       "  </thead>\n",
       "  <tbody>\n",
       "    <tr>\n",
       "      <th>0</th>\n",
       "      <td>2</td>\n",
       "    </tr>\n",
       "    <tr>\n",
       "      <th>1</th>\n",
       "      <td>1</td>\n",
       "    </tr>\n",
       "    <tr>\n",
       "      <th>2</th>\n",
       "      <td>0</td>\n",
       "    </tr>\n",
       "  </tbody>\n",
       "</table>\n",
       "</div>"
      ],
      "text/plain": [
       "   value\n",
       "0      2\n",
       "1      1\n",
       "2      0"
      ]
     },
     "execution_count": 116,
     "metadata": {},
     "output_type": "execute_result"
    }
   ],
   "source": [
    "df_result"
   ]
  },
  {
   "cell_type": "code",
   "execution_count": 117,
   "metadata": {},
   "outputs": [],
   "source": [
    "def get_col_name(row):    \n",
    "    b = (df.iloc[row.name] == row['value'])\n",
    "    return b.idxmax()"
   ]
  },
  {
   "cell_type": "code",
   "execution_count": 118,
   "metadata": {},
   "outputs": [],
   "source": [
    "df_result['Column'] = df_result.apply(get_col_name, axis=1)"
   ]
  },
  {
   "cell_type": "code",
   "execution_count": 119,
   "metadata": {},
   "outputs": [
    {
     "data": {
      "text/html": [
       "<div>\n",
       "<style scoped>\n",
       "    .dataframe tbody tr th:only-of-type {\n",
       "        vertical-align: middle;\n",
       "    }\n",
       "\n",
       "    .dataframe tbody tr th {\n",
       "        vertical-align: top;\n",
       "    }\n",
       "\n",
       "    .dataframe thead th {\n",
       "        text-align: right;\n",
       "    }\n",
       "</style>\n",
       "<table border=\"1\" class=\"dataframe\">\n",
       "  <thead>\n",
       "    <tr style=\"text-align: right;\">\n",
       "      <th></th>\n",
       "      <th>value</th>\n",
       "      <th>Column</th>\n",
       "    </tr>\n",
       "  </thead>\n",
       "  <tbody>\n",
       "    <tr>\n",
       "      <th>0</th>\n",
       "      <td>2</td>\n",
       "      <td>order</td>\n",
       "    </tr>\n",
       "    <tr>\n",
       "      <th>1</th>\n",
       "      <td>1</td>\n",
       "      <td>orders2</td>\n",
       "    </tr>\n",
       "    <tr>\n",
       "      <th>2</th>\n",
       "      <td>0</td>\n",
       "      <td>order</td>\n",
       "    </tr>\n",
       "  </tbody>\n",
       "</table>\n",
       "</div>"
      ],
      "text/plain": [
       "   value   Column\n",
       "0      2    order\n",
       "1      1  orders2\n",
       "2      0    order"
      ]
     },
     "execution_count": 119,
     "metadata": {},
     "output_type": "execute_result"
    }
   ],
   "source": [
    "# здача решена:\n",
    "df_result"
   ]
  },
  {
   "cell_type": "markdown",
   "metadata": {},
   "source": [
    "#### детальное описание:"
   ]
  },
  {
   "cell_type": "code",
   "execution_count": 120,
   "metadata": {},
   "outputs": [
    {
     "data": {
      "text/plain": [
       "value         2\n",
       "Column    order\n",
       "Name: 0, dtype: object"
      ]
     },
     "execution_count": 120,
     "metadata": {},
     "output_type": "execute_result"
    }
   ],
   "source": [
    "row = df_result.iloc[0]\n",
    "row"
   ]
  },
  {
   "cell_type": "code",
   "execution_count": 121,
   "metadata": {},
   "outputs": [
    {
     "data": {
      "text/plain": [
       "0"
      ]
     },
     "execution_count": 121,
     "metadata": {},
     "output_type": "execute_result"
    }
   ],
   "source": [
    "row.name"
   ]
  },
  {
   "cell_type": "code",
   "execution_count": 122,
   "metadata": {},
   "outputs": [
    {
     "data": {
      "text/plain": [
       "user_id      1\n",
       "clicks     163\n",
       "order        2\n",
       "orders2      0\n",
       "Name: 0, dtype: int64"
      ]
     },
     "execution_count": 122,
     "metadata": {},
     "output_type": "execute_result"
    }
   ],
   "source": [
    "df.iloc[row.name]"
   ]
  },
  {
   "cell_type": "code",
   "execution_count": 123,
   "metadata": {},
   "outputs": [
    {
     "data": {
      "text/plain": [
       "user_id    False\n",
       "clicks     False\n",
       "order       True\n",
       "orders2    False\n",
       "Name: 0, dtype: bool"
      ]
     },
     "execution_count": 123,
     "metadata": {},
     "output_type": "execute_result"
    }
   ],
   "source": [
    "b = (df.iloc[row.name] == row['value'])\n",
    "b"
   ]
  },
  {
   "cell_type": "code",
   "execution_count": 124,
   "metadata": {},
   "outputs": [
    {
     "data": {
      "text/plain": [
       "'order'"
      ]
     },
     "execution_count": 124,
     "metadata": {},
     "output_type": "execute_result"
    }
   ],
   "source": [
    "b.idxmax()"
   ]
  }
 ],
 "metadata": {
  "kernelspec": {
   "display_name": "Python 3",
   "language": "python",
   "name": "python3"
  },
  "language_info": {
   "codemirror_mode": {
    "name": "ipython",
    "version": 3
   },
   "file_extension": ".py",
   "mimetype": "text/x-python",
   "name": "python",
   "nbconvert_exporter": "python",
   "pygments_lexer": "ipython3",
   "version": "3.7.3"
  }
 },
 "nbformat": 4,
 "nbformat_minor": 2
}

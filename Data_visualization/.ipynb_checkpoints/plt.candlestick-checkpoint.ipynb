{
 "cells": [
  {
   "cell_type": "markdown",
   "metadata": {},
   "source": [
    "# plot_candlestick"
   ]
  },
  {
   "cell_type": "code",
   "execution_count": 1,
   "metadata": {},
   "outputs": [
    {
     "name": "stdout",
     "output_type": "stream",
     "text": [
      "Requirement already satisfied: mpl_finance in c:\\users\\asus\\anaconda3\\lib\\site-packages (0.10.0)\n",
      "Requirement already satisfied: matplotlib in c:\\users\\asus\\anaconda3\\lib\\site-packages (from mpl_finance) (3.0.3)\n",
      "Requirement already satisfied: numpy>=1.10.0 in c:\\users\\asus\\anaconda3\\lib\\site-packages (from matplotlib->mpl_finance) (1.16.2)\n",
      "Requirement already satisfied: cycler>=0.10 in c:\\users\\asus\\anaconda3\\lib\\site-packages (from matplotlib->mpl_finance) (0.10.0)\n",
      "Requirement already satisfied: kiwisolver>=1.0.1 in c:\\users\\asus\\anaconda3\\lib\\site-packages (from matplotlib->mpl_finance) (1.0.1)\n",
      "Requirement already satisfied: pyparsing!=2.0.4,!=2.1.2,!=2.1.6,>=2.0.1 in c:\\users\\asus\\anaconda3\\lib\\site-packages (from matplotlib->mpl_finance) (2.3.1)\n",
      "Requirement already satisfied: python-dateutil>=2.1 in c:\\users\\asus\\anaconda3\\lib\\site-packages (from matplotlib->mpl_finance) (2.8.0)\n",
      "Requirement already satisfied: six in c:\\users\\asus\\anaconda3\\lib\\site-packages (from cycler>=0.10->matplotlib->mpl_finance) (1.12.0)\n",
      "Requirement already satisfied: setuptools in c:\\users\\asus\\anaconda3\\lib\\site-packages (from kiwisolver>=1.0.1->matplotlib->mpl_finance) (40.8.0)\n"
     ]
    }
   ],
   "source": [
    "# модуль для plot_candlestick\n",
    "!pip install mpl_finance"
   ]
  },
  {
   "cell_type": "code",
   "execution_count": 2,
   "metadata": {},
   "outputs": [],
   "source": [
    "from mpl_finance import candlestick_ohlc\n",
    "import matplotlib.dates as mdates"
   ]
  },
  {
   "cell_type": "code",
   "execution_count": 3,
   "metadata": {},
   "outputs": [],
   "source": [
    "import requests\n",
    "from datetime import datetime\n",
    "import pandas as pd\n",
    "import matplotlib.pyplot as plt\n",
    "%matplotlib inline"
   ]
  },
  {
   "cell_type": "code",
   "execution_count": 4,
   "metadata": {},
   "outputs": [],
   "source": [
    "def get_price_data(query):\n",
    "    r = requests.get(\"https://finance.google.com/finance/getprices\", params=query)\n",
    "    lines = r.text.splitlines()\n",
    "    data = []\n",
    "    index = []\n",
    "    basetime = 0\n",
    "    for price in lines:\n",
    "        cols = price.split(\",\")\n",
    "        if cols[0][0] == 'a':\n",
    "            basetime = int(cols[0][1:])\n",
    "            index.append(datetime.fromtimestamp(basetime))\n",
    "            data.append([float(cols[4]), float(cols[2]), float(cols[3]), float(cols[1]), int(cols[5])])\n",
    "        elif cols[0][0].isdigit():\n",
    "            date = basetime + (int(cols[0])*int(query['i']))\n",
    "            index.append(datetime.fromtimestamp(date))\n",
    "            data.append([float(cols[4]), float(cols[2]), float(cols[3]), float(cols[1]), int(cols[5])])\n",
    "    return pd.DataFrame(data, index = index, columns = ['Open', 'High', 'Low', 'Close', 'Volume'])"
   ]
  },
  {
   "cell_type": "code",
   "execution_count": 5,
   "metadata": {},
   "outputs": [],
   "source": [
    "def plot_candlestick(df, ax=None, fmt=\"%Y-%m-%d\"):\n",
    "    if ax is None:\n",
    "        fig, ax = plt.subplots()\n",
    "    idx_name = df.index.name if df.index.name else 'index'\n",
    "    dat = df.reset_index()[[idx_name, \"Open\", \"High\", \"Low\", \"Close\"]]\n",
    "    dat[idx_name] = dat[idx_name].map(mdates.date2num)\n",
    "    ax.xaxis_date()\n",
    "    ax.xaxis.set_major_formatter(mdates.DateFormatter(fmt))\n",
    "    plt.xticks(rotation=45)\n",
    "    _ = candlestick_ohlc(ax, dat.values, width=.6, colorup='g', alpha =1)\n",
    "    ax.set_xlabel(idx_name)\n",
    "    ax.set_ylabel(\"OHLC\")\n",
    "    return ax"
   ]
  },
  {
   "cell_type": "code",
   "execution_count": 7,
   "metadata": {},
   "outputs": [],
   "source": [
    "from pandas.plotting import register_matplotlib_converters\n",
    "register_matplotlib_converters()"
   ]
  },
  {
   "cell_type": "code",
   "execution_count": 8,
   "metadata": {},
   "outputs": [
    {
     "data": {
      "image/png": "[encoded data removed]",
      "text/plain": [
       "<Figure size 864x432 with 1 Axes>"
      ]
     },
     "metadata": {
      "needs_background": "light"
     },
     "output_type": "display_data"
    }
   ],
   "source": [
    "param = {\n",
    "    'q': \"FB\", # Stock symbol (ex: \"AAPL\")\n",
    "    'i': \"86400\", # Interval size in seconds (\"86400\" = 1 day intervals)\n",
    "    'p': \"1Y\" # Period (Ex: \"1Y\" = 1 year)\n",
    "}\n",
    "# get price data (return pandas dataframe)\n",
    "df = get_price_data(param)\n",
    "\n",
    "data = df['2018-06-15':'2018-06-30']\n",
    "\n",
    "fig = plt.figure(figsize=(12,6))\n",
    "plot_candlestick(data, fig.subplots())\n",
    "plt.show()"
   ]
  },
  {
   "cell_type": "code",
   "execution_count": null,
   "metadata": {},
   "outputs": [],
   "source": []
  },
  {
   "cell_type": "code",
   "execution_count": null,
   "metadata": {},
   "outputs": [],
   "source": []
  }
 ],
 "metadata": {
  "kernelspec": {
   "display_name": "Python 3",
   "language": "python",
   "name": "python3"
  },
  "language_info": {
   "codemirror_mode": {
    "name": "ipython",
    "version": 3
   },
   "file_extension": ".py",
   "mimetype": "text/x-python",
   "name": "python",
   "nbconvert_exporter": "python",
   "pygments_lexer": "ipython3",
   "version": "3.7.3"
  }
 },
 "nbformat": 4,
 "nbformat_minor": 2
}

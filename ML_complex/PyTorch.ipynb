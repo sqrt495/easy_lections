{
 "cells": [
  {
   "cell_type": "markdown",
   "metadata": {},
   "source": [
    "<p></p><img src=\"https://i.pinimg.com/originals/59/8e/c4/598ec42e15c85716c6954c26840d4f4b.jpg\" style=\"width: 100px\"/>\n",
    "<a href=\"https://github.com/sqrt495?tab=repositories\" target=\"_parent\">\n",
    "    <h4><center><font color=black>Open In GitHub</font></center></h4></a>\n",
    "<p></p>"
   ]
  },
  {
   "cell_type": "markdown",
   "metadata": {},
   "source": [
    "В отличие от\n",
    "Theano, Caffe и TensorFlow, **PyTorch** реализует метод автоматического дифференцирования на основе так называемой ленты [`tape`](http://bit.ly/2Jrntq1), с помощью\n",
    "которого можно описывать и выполнять графы вычислений динамически, что\n",
    "очень удобно для отладки и конструирования сложных моделей с минимальными\n",
    "усилиями."
   ]
  },
  {
   "cell_type": "markdown",
   "metadata": {},
   "source": [
    "<h3><center>ДИНАМИЧЕСКИЕ И СТАТИЧЕСКИЕ ГРАФЫ ВЫЧИСЛЕНИЙ</center></h3>\n",
    "\n",
    "*Такие статические фреймворки, как **Theano, Caffe и TensorFlow**, требуют описания\n",
    "и компиляции графа вычислений перед его выполнением. Хотя это приводит к очень\n",
    "высокой производительности реализаций (что полезно в промышленной эксплуатации), но может доставить немало хлопот при исследовательской работе и во время\n",
    "разработки.*\n",
    "\n",
    "\n",
    "*Современные фреймворки, такие как **Chainer, DyNet и PyTorch***, реализуют динамические графы вычислений, не требующие компиляции моделей перед\n",
    "каждым выполнением, что обеспечивает возможность более гибкого, императивного\n",
    "стиля разработки. Динамические графы вычислений особенно удобны при моделировании задач NLP, в которых различные входные данные могут привести к разным\n",
    "структурам графа.*"
   ]
  },
  {
   "cell_type": "markdown",
   "metadata": {},
   "source": [
    "PyTorch — оптимизированная библиотека для работы с тензорами, включающая\n",
    "набор пакетов для глубокого обучения. Основное понятие этой библиотеки — тензор (`tensor`), математический объект для хранения многомерных данных.\n",
    "\n",
    "* Тензор ранга 0 — просто число, или скаляр.\n",
    "* Тензор ранга 1 — массив чисел (то есть вектор).\n",
    "* Тензор ранга 2 представляет собой массив векторов (матрицу)."
   ]
  },
  {
   "cell_type": "markdown",
   "metadata": {},
   "source": [
    "<p></p><img src=\"https://dpzbhybb2pdcj.cloudfront.net/stevens2/v-10/Figures/p1ch3_tensors.png\" style=\"width: 900px\"/>\n",
    "<a href=\"https://livebook.manning.com/book/deep-learning-with-pytorch/chapter-3/v-10/12\" target=\"_parent\">\n",
    "    <h4><center><font color=black>Deep Learning with PyTorch</font></center></h4></a>\n",
    "<p></p>\n",
    "\n",
    "\n"
   ]
  },
  {
   "cell_type": "code",
   "execution_count": 27,
   "metadata": {},
   "outputs": [
    {
     "name": "stderr",
     "output_type": "stream",
     "text": [
      "\"nvcc\" не является внутренней или внешней\n",
      "командой, исполняемой программой или пакетным файлом.\n"
     ]
    }
   ],
   "source": [
    "!nvcc --version"
   ]
  },
  {
   "cell_type": "markdown",
   "metadata": {},
   "source": [
    "## <center>[Run official tutorial!](https://pytorch.org/tutorials/beginner/blitz/autograd_tutorial.html)</center>"
   ]
  },
  {
   "cell_type": "code",
   "execution_count": 41,
   "metadata": {},
   "outputs": [],
   "source": [
    "from __future__ import print_function\n",
    "import torch"
   ]
  },
  {
   "cell_type": "code",
   "execution_count": 50,
   "metadata": {},
   "outputs": [
    {
     "data": {
      "text/plain": [
       "(tensor([[1.0102e-38, 1.0286e-38, 1.0194e-38],\n",
       "         [9.6429e-39, 9.2755e-39, 9.1837e-39],\n",
       "         [9.3674e-39, 1.0745e-38, 1.0653e-38],\n",
       "         [9.5510e-39, 1.0561e-38, 1.0194e-38],\n",
       "         [1.1112e-38, 1.0561e-38, 9.9184e-39]]), torch.Tensor)"
      ]
     },
     "execution_count": 50,
     "metadata": {},
     "output_type": "execute_result"
    }
   ],
   "source": [
    "x = torch.empty(5, 3)\n",
    "x, type(x)"
   ]
  },
  {
   "cell_type": "code",
   "execution_count": 51,
   "metadata": {},
   "outputs": [
    {
     "data": {
      "text/plain": [
       "tensor([[0.1560, 0.8449, 0.7474],\n",
       "        [0.0523, 0.2719, 0.8738],\n",
       "        [0.0181, 0.6742, 0.7514],\n",
       "        [0.4486, 0.8709, 0.5765],\n",
       "        [0.0093, 0.3536, 0.7913]])"
      ]
     },
     "execution_count": 51,
     "metadata": {},
     "output_type": "execute_result"
    }
   ],
   "source": [
    "y = torch.rand(5, 3)\n",
    "y"
   ]
  },
  {
   "cell_type": "code",
   "execution_count": 52,
   "metadata": {},
   "outputs": [],
   "source": [
    "indices = torch.LongTensor([0, 2])"
   ]
  },
  {
   "cell_type": "code",
   "execution_count": 56,
   "metadata": {},
   "outputs": [],
   "source": [
    "# непоследовательная выборка из тензора\n",
    "\n",
    "torch.index_select?"
   ]
  },
  {
   "cell_type": "code",
   "execution_count": 53,
   "metadata": {},
   "outputs": [
    {
     "data": {
      "text/plain": [
       "tensor([[1.0102e-38, 1.0194e-38],\n",
       "        [9.6429e-39, 9.1837e-39],\n",
       "        [9.3674e-39, 1.0653e-38],\n",
       "        [9.5510e-39, 1.0194e-38],\n",
       "        [1.1112e-38, 9.9184e-39]])"
      ]
     },
     "execution_count": 53,
     "metadata": {},
     "output_type": "execute_result"
    }
   ],
   "source": [
    "torch.index_select(x, dim=1, index=indices)"
   ]
  },
  {
   "cell_type": "markdown",
   "metadata": {},
   "source": [
    "Обратите внимание, что тип индексов — LongTensor; таковы требования к доступу\n",
    "по индексу при использовании функций PyTorch. Можно также выполнять объединение тензоров с помощью встроенных функций конкатенации, указывая тензоры и нужные измерения."
   ]
  },
  {
   "cell_type": "code",
   "execution_count": 57,
   "metadata": {},
   "outputs": [
    {
     "data": {
      "text/plain": [
       "tensor([[0.1560, 0.8449, 0.7474],\n",
       "        [0.0523, 0.2719, 0.8738],\n",
       "        [0.0181, 0.6742, 0.7514],\n",
       "        [0.4486, 0.8709, 0.5765],\n",
       "        [0.0093, 0.3536, 0.7913]])"
      ]
     },
     "execution_count": 57,
     "metadata": {},
     "output_type": "execute_result"
    }
   ],
   "source": [
    "# `+`\n",
    "\n",
    "z = torch.add(x, y)\n",
    "z"
   ]
  },
  {
   "cell_type": "code",
   "execution_count": 60,
   "metadata": {},
   "outputs": [
    {
     "data": {
      "text/plain": [
       "tensor([[0.1560, 0.8449, 0.7474],\n",
       "        [0.0523, 0.2719, 0.8738],\n",
       "        [0.0181, 0.6742, 0.7514],\n",
       "        [0.4486, 0.8709, 0.5765],\n",
       "        [0.0093, 0.3536, 0.7913],\n",
       "        [0.1560, 0.8449, 0.7474],\n",
       "        [0.0523, 0.2719, 0.8738],\n",
       "        [0.0181, 0.6742, 0.7514],\n",
       "        [0.4486, 0.8709, 0.5765],\n",
       "        [0.0093, 0.3536, 0.7913]])"
      ]
     },
     "execution_count": 60,
     "metadata": {},
     "output_type": "execute_result"
    }
   ],
   "source": [
    "# concat\n",
    "\n",
    "torch.cat([y, z], dim=0)"
   ]
  },
  {
   "cell_type": "markdown",
   "metadata": {},
   "source": [
    "Any operation that mutates a tensor in-place is post-fixed with an `_`. For example: `x.copy_(y)`, `x.t_()`, will change `x`."
   ]
  },
  {
   "cell_type": "code",
   "execution_count": 6,
   "metadata": {},
   "outputs": [
    {
     "data": {
      "text/plain": [
       "tensor([[0.0244, 0.9078, 0.1941, 0.5753, 0.9147],\n",
       "        [0.9187, 0.2832, 0.7007, 0.7483, 0.4988],\n",
       "        [0.0429, 0.0153, 0.5085, 0.9424, 0.3002]])"
      ]
     },
     "execution_count": 6,
     "metadata": {},
     "output_type": "execute_result"
    }
   ],
   "source": [
    "z.t_()\n",
    "z"
   ]
  },
  {
   "cell_type": "code",
   "execution_count": 7,
   "metadata": {},
   "outputs": [
    {
     "data": {
      "text/plain": [
       "torch.Size([3, 5])"
      ]
     },
     "execution_count": 7,
     "metadata": {},
     "output_type": "execute_result"
    }
   ],
   "source": [
    "z.size()"
   ]
  },
  {
   "cell_type": "code",
   "execution_count": 8,
   "metadata": {},
   "outputs": [
    {
     "data": {
      "text/plain": [
       "tensor([0.9147, 0.4988, 0.3002])"
      ]
     },
     "execution_count": 8,
     "metadata": {},
     "output_type": "execute_result"
    }
   ],
   "source": [
    "z[:, -1]"
   ]
  },
  {
   "cell_type": "markdown",
   "metadata": {},
   "source": [
    "**Resizing**: If you want to resize/reshape tensor, you can use `torch.view`:"
   ]
  },
  {
   "cell_type": "code",
   "execution_count": 9,
   "metadata": {},
   "outputs": [
    {
     "name": "stdout",
     "output_type": "stream",
     "text": [
      "torch.Size([4, 4]) torch.Size([16]) torch.Size([2, 8])\n"
     ]
    }
   ],
   "source": [
    "a = torch.randn(4, 4)\n",
    "b = a.view(16)\n",
    "c = a.view(-1, 8)  # the size -1 is inferred from other dimensions\n",
    "print(a.size(), b.size(), c.size())"
   ]
  },
  {
   "cell_type": "code",
   "execution_count": 10,
   "metadata": {},
   "outputs": [
    {
     "data": {
      "text/plain": [
       "(tensor([[ 1.6466,  0.2950, -1.2414,  0.8758],\n",
       "         [-1.1177,  0.5174,  0.7472, -0.7541],\n",
       "         [-0.6869, -0.8953, -1.1029, -0.2262],\n",
       "         [-0.2238, -0.2017, -0.2920,  0.0040]]),\n",
       " tensor([ 1.6466,  0.2950, -1.2414,  0.8758, -1.1177,  0.5174,  0.7472, -0.7541,\n",
       "         -0.6869, -0.8953, -1.1029, -0.2262, -0.2238, -0.2017, -0.2920,  0.0040]),\n",
       " tensor([[ 1.6466,  0.2950, -1.2414,  0.8758, -1.1177,  0.5174,  0.7472, -0.7541],\n",
       "         [-0.6869, -0.8953, -1.1029, -0.2262, -0.2238, -0.2017, -0.2920,  0.0040]]))"
      ]
     },
     "execution_count": 10,
     "metadata": {},
     "output_type": "execute_result"
    }
   ],
   "source": [
    "a,b,c"
   ]
  },
  {
   "cell_type": "code",
   "execution_count": 11,
   "metadata": {},
   "outputs": [
    {
     "data": {
      "text/plain": [
       "(-0.2261853814125061, float)"
      ]
     },
     "execution_count": 11,
     "metadata": {},
     "output_type": "execute_result"
    }
   ],
   "source": [
    "a[2,3].item(), type(a[2,3].item())"
   ]
  },
  {
   "cell_type": "markdown",
   "metadata": {},
   "source": [
    "Create a tensor and set `requires_grad=True` to track computation with it"
   ]
  },
  {
   "cell_type": "code",
   "execution_count": 12,
   "metadata": {},
   "outputs": [
    {
     "data": {
      "text/plain": [
       "tensor([[0.3374, 0.4630, 0.9090],\n",
       "        [0.4279, 0.8173, 0.4786],\n",
       "        [0.3707, 0.1565, 0.1869],\n",
       "        [0.1516, 0.9341, 0.5348],\n",
       "        [0.3917, 0.1784, 0.2538]], requires_grad=True)"
      ]
     },
     "execution_count": 12,
     "metadata": {},
     "output_type": "execute_result"
    }
   ],
   "source": [
    "y = torch.rand(5, 3, requires_grad=True)\n",
    "y"
   ]
  },
  {
   "cell_type": "code",
   "execution_count": 13,
   "metadata": {},
   "outputs": [
    {
     "data": {
      "text/plain": [
       "tensor([[0.3374, 0.4630, 0.9090],\n",
       "        [0.4279, 0.8173, 0.4786],\n",
       "        [0.3707, 0.1565, 0.1869],\n",
       "        [0.1516, 0.9341, 0.5348],\n",
       "        [0.3917, 0.1784, 0.2538]], requires_grad=True)"
      ]
     },
     "execution_count": 13,
     "metadata": {},
     "output_type": "execute_result"
    }
   ],
   "source": [
    "torch.add(z.t_(), y)\n",
    "y"
   ]
  },
  {
   "cell_type": "code",
   "execution_count": 14,
   "metadata": {},
   "outputs": [
    {
     "data": {
      "text/plain": [
       "tensor([[8.3374, 8.4630, 8.9090],\n",
       "        [8.4279, 8.8173, 8.4786],\n",
       "        [8.3707, 8.1565, 8.1869],\n",
       "        [8.1516, 8.9341, 8.5348],\n",
       "        [8.3917, 8.1784, 8.2538]], grad_fn=<AddBackward0>)"
      ]
     },
     "execution_count": 14,
     "metadata": {},
     "output_type": "execute_result"
    }
   ],
   "source": [
    "y = y+8\n",
    "y"
   ]
  },
  {
   "cell_type": "markdown",
   "metadata": {},
   "source": [
    "Когда тензор создается с параметром `requires_grad=True`, тем самым от PyTorch\n",
    "требуется хранить вспомогательную информацию, необходимую для вычисления\n",
    "градиентов. Во-первых, PyTorch будет отслеживать значения, получаемые при\n",
    "прямом проходе.\n",
    "\n",
    "\n",
    "Затем, в конце вычислений, для определения обратного шага\n",
    "используется одно скалярное значение. Обратный шаг запускается путем вызова\n",
    "метода `backward()` для тензора, полученного в результате вычисления функции\n",
    "потерь. При обратном шаге вычисляется значение градиента для объекта-тензора,\n",
    "участвовавшего в прямом шаге.\n",
    "\n",
    "\n",
    "В целом градиент представляет собой значение, отражающее угол наклона выходного значения функции по отношению к ее входному значению. В сфере\n",
    "графов вычислений градиенты существуют для всех параметров модели, их\n",
    "можно считать вкладом каждого параметра в сигнал рассогласования. В PyTorch\n",
    "получить доступ к градиентам узлов графа вычислений можно с помощью переменной экземпляра `.grad`. Она используется при оптимизации для обновления\n",
    "значений параметров."
   ]
  },
  {
   "cell_type": "code",
   "execution_count": 15,
   "metadata": {},
   "outputs": [
    {
     "data": {
      "text/plain": [
       "tensor([   14.7803, -1597.1073, -1004.3222], grad_fn=<MulBackward0>)"
      ]
     },
     "execution_count": 15,
     "metadata": {},
     "output_type": "execute_result"
    }
   ],
   "source": [
    "x = torch.randn(3, requires_grad=True)\n",
    "\n",
    "y = x * 2\n",
    "while y.data.norm() < 1000:\n",
    "    y = y * 2\n",
    "\n",
    "y"
   ]
  },
  {
   "cell_type": "markdown",
   "metadata": {},
   "source": [
    "Now in this case `y` is no longer a scalar. `torch.autograd` could not compute the full Jacobian directly, but if we just want the [vector-Jacobian](https://ru.wikipedia.org/wiki/%D0%9C%D0%B0%D1%82%D1%80%D0%B8%D1%86%D0%B0_%D0%AF%D0%BA%D0%BE%D0%B1%D0%B8) product, simply pass the vector to backward as argument:"
   ]
  },
  {
   "cell_type": "code",
   "execution_count": 16,
   "metadata": {},
   "outputs": [
    {
     "data": {
      "text/plain": [
       "tensor([ 512., 1024.,  512.])"
      ]
     },
     "execution_count": 16,
     "metadata": {},
     "output_type": "execute_result"
    }
   ],
   "source": [
    "v = torch.tensor([0.5, 1.0, 0.5], dtype=torch.float)\n",
    "y.backward(v)\n",
    "\n",
    "x.grad"
   ]
  },
  {
   "cell_type": "markdown",
   "metadata": {},
   "source": [
    "### CUDA"
   ]
  },
  {
   "cell_type": "markdown",
   "metadata": {},
   "source": [
    "До сих пор наши тензоры располагались в памяти CPU. При выполнении операций линейной алгебры имеет смысл воспользоваться GPU, если в вашей системе\n",
    "он есть. Для применения GPU необходимо сначала выделить под тензор место\n",
    "в памяти GPU. Доступ к GPU производится с помощью специализированного\n",
    "API — CUDA. **API CUDA был создан компанией NVIDIA**, его можно использо-\n",
    "Тензоры CUDA вать только для GPU производства NVIDIA.\n",
    ".\n",
    "\n",
    "В PyTorch есть объекты-тензоры\n",
    "для CUDA, неотличимые на практике от обычных CPU-тензоров, за исключением\n",
    "внутреннего механизма выделения памяти.\n",
    "PyTorch обеспечивает простоту создания этих CUDA-тензоров, поддерживая\n",
    "перемещение тензоров с CPU на GPU с сохранением их базового типа. В PyTorch\n",
    "рекомендуется применять аппаратно независимый подход и писать код, который бы\n",
    "работал как на CPU, так и на GPU.\n",
    "\n",
    "\n",
    "Проверяем, доступен ли GPU, с помощью функции `torch.cuda.is_available()` и извлекаем название\n",
    "устройства, вызвав метод `torch.device()`. Далее мы создаем все будущие тензоры\n",
    "и перемещаем их на нужное устройство с помощью метода `.to(device)`."
   ]
  },
  {
   "cell_type": "code",
   "execution_count": 61,
   "metadata": {},
   "outputs": [
    {
     "data": {
      "text/plain": [
       "False"
      ]
     },
     "execution_count": 61,
     "metadata": {},
     "output_type": "execute_result"
    }
   ],
   "source": [
    "torch.cuda.is_available()"
   ]
  },
  {
   "cell_type": "code",
   "execution_count": null,
   "metadata": {},
   "outputs": [],
   "source": []
  },
  {
   "cell_type": "markdown",
   "metadata": {},
   "source": [
    "Neural networks can be constructed using the `torch.nn` package."
   ]
  },
  {
   "cell_type": "markdown",
   "metadata": {},
   "source": [
    "A typical training procedure for a neural network is as follows:\n",
    "\n",
    "1. Define the neural network that has some learnable parameters (or weights)\n",
    "2. Iterate over a dataset of inputs\n",
    "3. Process input through the network\n",
    "4. Compute the loss (how far is the output from being correct)\n",
    "5. Propagate gradients back into the network’s parameters\n",
    "6. Update the weights of the network, typically using a simple update rule: `weight = weight - learning_rate * gradient`"
   ]
  },
  {
   "cell_type": "code",
   "execution_count": 17,
   "metadata": {},
   "outputs": [
    {
     "data": {
      "text/plain": [
       "Net(\n",
       "  (conv1): Conv2d(1, 6, kernel_size=(3, 3), stride=(1, 1))\n",
       "  (conv2): Conv2d(6, 16, kernel_size=(3, 3), stride=(1, 1))\n",
       "  (fc1): Linear(in_features=576, out_features=120, bias=True)\n",
       "  (fc2): Linear(in_features=120, out_features=84, bias=True)\n",
       "  (fc3): Linear(in_features=84, out_features=10, bias=True)\n",
       ")"
      ]
     },
     "execution_count": 17,
     "metadata": {},
     "output_type": "execute_result"
    }
   ],
   "source": [
    "import torch\n",
    "import torch.nn as nn\n",
    "import torch.nn.functional as F\n",
    "\n",
    "\n",
    "class Net(nn.Module):\n",
    "\n",
    "    def __init__(self):\n",
    "        super(Net, self).__init__()\n",
    "        # 1 input image channel, 6 output channels, 3x3 square convolution\n",
    "        # kernel\n",
    "        self.conv1 = nn.Conv2d(1, 6, 3)\n",
    "        self.conv2 = nn.Conv2d(6, 16, 3)\n",
    "        # an affine operation: y = Wx + b\n",
    "        self.fc1 = nn.Linear(16 * 6 * 6, 120)  # 6*6 from image dimension\n",
    "        self.fc2 = nn.Linear(120, 84)\n",
    "        self.fc3 = nn.Linear(84, 10)\n",
    "\n",
    "    def forward(self, x):\n",
    "        # Max pooling over a (2, 2) window\n",
    "        x = F.max_pool2d(F.relu(self.conv1(x)), (2, 2))\n",
    "        # If the size is a square you can only specify a single number\n",
    "        x = F.max_pool2d(F.relu(self.conv2(x)), 2)\n",
    "        x = x.view(-1, self.num_flat_features(x))\n",
    "        x = F.relu(self.fc1(x))\n",
    "        x = F.relu(self.fc2(x))\n",
    "        x = self.fc3(x)\n",
    "        return x\n",
    "\n",
    "    def num_flat_features(self, x):\n",
    "        size = x.size()[1:]  # all dimensions except the batch dimension\n",
    "        num_features = 1\n",
    "        for s in size:\n",
    "            num_features *= s\n",
    "        return num_features\n",
    "\n",
    "\n",
    "net = Net()\n",
    "net"
   ]
  },
  {
   "cell_type": "markdown",
   "metadata": {},
   "source": [
    "You just have to define the `forward` function, and the `backward` function (where gradients are computed) is automatically defined for you using `autograd`. You can use any of the Tensor operations in the `forward` function."
   ]
  },
  {
   "cell_type": "code",
   "execution_count": 18,
   "metadata": {},
   "outputs": [
    {
     "name": "stdout",
     "output_type": "stream",
     "text": [
      "10\n",
      "torch.Size([6, 1, 3, 3])\n",
      "torch.Size([6])\n",
      "torch.Size([16, 6, 3, 3])\n",
      "torch.Size([16])\n",
      "torch.Size([120, 576])\n",
      "torch.Size([120])\n",
      "torch.Size([84, 120])\n",
      "torch.Size([84])\n",
      "torch.Size([10, 84])\n",
      "torch.Size([10])\n"
     ]
    }
   ],
   "source": [
    "params = list(net.parameters())\n",
    "print(len(params))\n",
    "for _ in params:\n",
    "    print(_.size())"
   ]
  },
  {
   "cell_type": "code",
   "execution_count": 19,
   "metadata": {},
   "outputs": [
    {
     "name": "stdout",
     "output_type": "stream",
     "text": [
      "tensor([[-0.0523,  0.0487,  0.0774, -0.0878, -0.0286,  0.0338,  0.0319,  0.0977,\n",
      "          0.0317,  0.0002]], grad_fn=<AddmmBackward>)\n"
     ]
    }
   ],
   "source": [
    "input = torch.randn(1, 1, 32, 32)\n",
    "out = net(input)\n",
    "print(out)"
   ]
  },
  {
   "cell_type": "code",
   "execution_count": 20,
   "metadata": {},
   "outputs": [],
   "source": [
    "net.zero_grad()\n",
    "out.backward(torch.randn(1, 10))"
   ]
  },
  {
   "cell_type": "markdown",
   "metadata": {},
   "source": [
    "`torch.nn` only supports mini-batches. The entire `torch.nn` package only supports inputs that are a mini-batch of samples, and not a single sample.\n",
    "\n",
    "For example, `nn.Conv2d` will take in a 4D Tensor of `nSamples x nChannels x Height x Width`.\n",
    "\n",
    "If you have a single sample, just use `input.unsqueeze(0)` to add a fake batch dimension.\n",
    "\n",
    "[READ MORE](https://pytorch.org/tutorials/beginner/blitz/neural_networks_tutorial.html#define-the-network)"
   ]
  },
  {
   "cell_type": "markdown",
   "metadata": {},
   "source": [
    "### Функции активации"
   ]
  },
  {
   "cell_type": "code",
   "execution_count": 23,
   "metadata": {},
   "outputs": [
    {
     "name": "stderr",
     "output_type": "stream",
     "text": [
      "C:\\Users\\Asus\\Anaconda3\\lib\\site-packages\\ipykernel_launcher.py:3: UserWarning: torch.range is deprecated in favor of torch.arange and will be removed in 0.5. Note that arange generates values in [start; end), not [start; end].\n",
      "  This is separate from the ipykernel package so we can avoid doing imports until\n"
     ]
    },
    {
     "data": {
      "image/png": "[encoded data removed]",
      "text/plain": [
       "<Figure size 432x288 with 1 Axes>"
      ]
     },
     "metadata": {
      "needs_background": "light"
     },
     "output_type": "display_data"
    }
   ],
   "source": [
    "import torch\n",
    "import matplotlib.pyplot as plt\n",
    "x = torch.range(-5., 5., 0.1)\n",
    "y = torch.sigmoid(x)\n",
    "ax = plt.plot(x.numpy(), y.numpy())\n",
    "plt.grid()\n",
    "plt.show()"
   ]
  },
  {
   "cell_type": "code",
   "execution_count": 24,
   "metadata": {},
   "outputs": [
    {
     "name": "stderr",
     "output_type": "stream",
     "text": [
      "C:\\Users\\Asus\\Anaconda3\\lib\\site-packages\\ipykernel_launcher.py:3: UserWarning: torch.range is deprecated in favor of torch.arange and will be removed in 0.5. Note that arange generates values in [start; end), not [start; end].\n",
      "  This is separate from the ipykernel package so we can avoid doing imports until\n"
     ]
    },
    {
     "data": {
      "image/png": "[encoded data removed]",
      "text/plain": [
       "<Figure size 432x288 with 1 Axes>"
      ]
     },
     "metadata": {
      "needs_background": "light"
     },
     "output_type": "display_data"
    }
   ],
   "source": [
    "import torch\n",
    "import matplotlib.pyplot as plt\n",
    "x = torch.range(-5., 5., 0.1)\n",
    "y = torch.tanh(x)\n",
    "plt.plot(x.numpy(), y.numpy())\n",
    "plt.grid()\n",
    "plt.show()"
   ]
  },
  {
   "cell_type": "code",
   "execution_count": 26,
   "metadata": {},
   "outputs": [
    {
     "name": "stderr",
     "output_type": "stream",
     "text": [
      "C:\\Users\\Asus\\Anaconda3\\lib\\site-packages\\ipykernel_launcher.py:4: UserWarning: torch.range is deprecated in favor of torch.arange and will be removed in 0.5. Note that arange generates values in [start; end), not [start; end].\n",
      "  after removing the cwd from sys.path.\n"
     ]
    },
    {
     "data": {
      "image/png": "[encoded data removed]",
      "text/plain": [
       "<Figure size 432x288 with 1 Axes>"
      ]
     },
     "metadata": {
      "needs_background": "light"
     },
     "output_type": "display_data"
    }
   ],
   "source": [
    "import torch\n",
    "import matplotlib.pyplot as plt\n",
    "relu = torch.nn.ReLU()\n",
    "x = torch.range(-5., 5., 0.1)\n",
    "y = relu(x)\n",
    "plt.plot(x.numpy(), y.numpy())\n",
    "plt.grid()\n",
    "plt.show()"
   ]
  },
  {
   "cell_type": "markdown",
   "metadata": {},
   "source": [
    "## <center> Регуляризация </center>\n",
    "\n",
    "Одно из важнейших понятий глубокого обучения (и машинного обучения вообще) — **регуляризация (regularization)**. Истоки понятия регуляризации лежат\n",
    "в теории численной оптимизации. Как вы помните, большинство алгоритмов\n",
    "машинного обучения оптимизируют функцию потерь для поиска наиболее вероятных значений параметров (или «модели»), объясняющих наблюдаемые значения,\n",
    "то есть минимизирующих потери. Для большинства наборов данных и задач существует несколько решений (возможных моделей) задачи оптимизации. Так какое\n",
    "из них нам (или оптимизатору) выбрать?\n",
    "\n",
    "<img src=\"https://upload.wikimedia.org/wikipedia/commons/thumb/0/02/Regularization.svg/1024px-Regularization.svg.png\" style=\"width: 500px\"/>\n",
    "\n",
    "Обе кривые подходят для указанных точек, но какая из них менее вероятна?\n",
    "Обращаясь к бритве Оккама, мы интуитивно понимаем, что простое объяснение\n",
    "лучше сложного. Подобное ограничение гладкости в машинном обучении называется **L2-регуляризацией**. Управлять ею в PyTorch можно с помощью параметра `weight_decay` оптимизатора. Чем больше значение параметра `weight_decay`, тем\n",
    "вероятнее выбор оптимизатором более гладкого (smoother) обоснования (то есть\n",
    "тем сильнее L2-регуляризация).\n",
    "\n",
    "\n",
    "Кроме L2-регуляризации, часто используется и **L1-регуляризация**, обычно для того,\n",
    "чтобы подтолкнуть алгоритм к более разреженным решениям, то есть таким, в которых большинство параметров модели близки к нулю.\n",
    "\n",
    "<p></p><img src=\"https://msdn.microsoft.com/en-us/dn904675.McCaffreyTRun_Figure%203%20vertical_hires(en-us,MSDN.10).png\" style=\"width: 500px\"/>\n",
    "\n",
    "\n",
    "<a href=\"https://docs.microsoft.com/en-us/archive/msdn-magazine/2015/february/test-run-l1-and-l2-regularization-for-machine-learning#understanding-regularization\" target=\"_parent\">\n",
    "    <h4><center><font color=black>Understanding Regularization</font></center></h4></a>"
   ]
  },
  {
   "cell_type": "markdown",
   "metadata": {},
   "source": [
    "[Example Notebook with LinearSVC model](https://github.com/buomsoo-kim/Machine-learning-toolkits-with-python/blob/master/Regularization%20and%20feature%20selection%20(L1%20vs%20L2%20regularization)/source%20code/L1-and-L2-regularization.ipynb)"
   ]
  },
  {
   "cell_type": "code",
   "execution_count": null,
   "metadata": {},
   "outputs": [],
   "source": []
  },
  {
   "cell_type": "code",
   "execution_count": null,
   "metadata": {},
   "outputs": [],
   "source": []
  },
  {
   "cell_type": "code",
   "execution_count": null,
   "metadata": {},
   "outputs": [],
   "source": []
  },
  {
   "cell_type": "code",
   "execution_count": null,
   "metadata": {},
   "outputs": [],
   "source": []
  }
 ],
 "metadata": {
  "kernelspec": {
   "display_name": "Python 3",
   "language": "python",
   "name": "python3"
  },
  "language_info": {
   "codemirror_mode": {
    "name": "ipython",
    "version": 3
   },
   "file_extension": ".py",
   "mimetype": "text/x-python",
   "name": "python",
   "nbconvert_exporter": "python",
   "pygments_lexer": "ipython3",
   "version": "3.7.3"
  }
 },
 "nbformat": 4,
 "nbformat_minor": 2
}

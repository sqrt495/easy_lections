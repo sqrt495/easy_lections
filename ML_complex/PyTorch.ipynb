{
 "cells": [
  {
   "cell_type": "markdown",
   "metadata": {},
   "source": [
    "<p></p><img src=\"https://i.pinimg.com/originals/59/8e/c4/598ec42e15c85716c6954c26840d4f4b.jpg\" style=\"width: 100px\"/>\n",
    "<a href=\"https://github.com/sqrt495?tab=repositories\" target=\"_parent\">\n",
    "    <h4><center><font color=black>Open In GitHub</font></center></h4></a>\n",
    "<p></p>"
   ]
  },
  {
   "cell_type": "markdown",
   "metadata": {},
   "source": [
    "В отличие от\n",
    "Theano, Caffe и TensorFlow, **PyTorch** реализует метод автоматического дифференцирования на основе так называемой ленты [`tape`](http://bit.ly/2Jrntq1), с помощью\n",
    "которого можно описывать и выполнять графы вычислений динамически, что\n",
    "очень удобно для отладки и конструирования сложных моделей с минимальными\n",
    "усилиями."
   ]
  },
  {
   "cell_type": "markdown",
   "metadata": {},
   "source": [
    "<h3><center>ДИНАМИЧЕСКИЕ И СТАТИЧЕСКИЕ ГРАФЫ ВЫЧИСЛЕНИЙ</center></h3>\n",
    "\n",
    "*Такие статические фреймворки, как **Theano, Caffe и TensorFlow**, требуют описания\n",
    "и компиляции графа вычислений перед его выполнением. Хотя это приводит к очень\n",
    "высокой производительности реализаций (что полезно в промышленной эксплуатации), но может доставить немало хлопот при исследовательской работе и во время\n",
    "разработки.*\n",
    "\n",
    "\n",
    "*Современные фреймворки, такие как **Chainer, DyNet и PyTorch***, реализуют динамические графы вычислений, не требующие компиляции моделей перед\n",
    "каждым выполнением, что обеспечивает возможность более гибкого, императивного\n",
    "стиля разработки. Динамические графы вычислений особенно удобны при моделировании задач NLP, в которых различные входные данные могут привести к разным\n",
    "структурам графа.*"
   ]
  },
  {
   "cell_type": "markdown",
   "metadata": {},
   "source": [
    "PyTorch — оптимизированная библиотека для работы с тензорами, включающая\n",
    "набор пакетов для глубокого обучения. Основное понятие этой библиотеки — тензор (`tensor`), математический объект для хранения многомерных данных.\n",
    "\n",
    "* Тензор ранга 0 — просто число, или скаляр.\n",
    "* Тензор ранга 1 — массив чисел (то есть вектор).\n",
    "* Тензор ранга 2 представляет собой массив векторов (матрицу)."
   ]
  },
  {
   "cell_type": "markdown",
   "metadata": {},
   "source": [
    "<p></p><img src=\"https://dpzbhybb2pdcj.cloudfront.net/stevens2/v-10/Figures/p1ch3_tensors.png\" style=\"width: 900px\"/>\n",
    "<a href=\"https://livebook.manning.com/book/deep-learning-with-pytorch/chapter-3/v-10/12\" target=\"_parent\">\n",
    "    <h4><center><font color=black>Deep Learning with PyTorch</font></center></h4></a>\n",
    "<p></p>\n",
    "\n",
    "\n"
   ]
  },
  {
   "cell_type": "markdown",
   "metadata": {},
   "source": [
    "## <center>[Run official tutorial!](https://pytorch.org/tutorials/beginner/blitz/autograd_tutorial.html)</center>"
   ]
  },
  {
   "cell_type": "code",
   "execution_count": 20,
   "metadata": {},
   "outputs": [],
   "source": [
    "from __future__ import print_function\n",
    "\n",
    "import torch\n",
    "import torch.nn as nn\n",
    "import torch.nn.functional as F\n",
    "\n",
    "import numpy as np\n",
    "import pandas as pd\n",
    "import matplotlib.pyplot as plt\n",
    "\n",
    "\n",
    "from sklearn.model_selection import train_test_split\n",
    "from sklearn.metrics import auc, roc_curve, roc_auc_score\n",
    "from sklearn.metrics import confusion_matrix\n",
    "from sklearn.metrics import classification_report\n",
    "from sklearn.metrics import accuracy_score\n",
    "from sklearn.utils import shuffle"
   ]
  },
  {
   "cell_type": "code",
   "execution_count": 21,
   "metadata": {},
   "outputs": [
    {
     "data": {
      "text/plain": [
       "(tensor([[1.0194e-38, 9.6429e-39, 9.2755e-39],\n",
       "         [9.1837e-39, 9.3674e-39, 1.0745e-38],\n",
       "         [1.0653e-38, 9.5510e-39, 1.0561e-38],\n",
       "         [1.0194e-38, 1.1112e-38, 1.0561e-38],\n",
       "         [9.9184e-39, 1.0653e-38, 4.1327e-39]]), torch.Tensor)"
      ]
     },
     "execution_count": 21,
     "metadata": {},
     "output_type": "execute_result"
    }
   ],
   "source": [
    "x = torch.empty(5, 3)\n",
    "x, type(x)"
   ]
  },
  {
   "cell_type": "code",
   "execution_count": 22,
   "metadata": {},
   "outputs": [
    {
     "data": {
      "text/plain": [
       "tensor([[0.7639, 0.6921, 0.8302],\n",
       "        [0.0788, 0.8946, 0.4697],\n",
       "        [0.8550, 0.9359, 0.8018],\n",
       "        [0.7076, 0.9006, 0.8673],\n",
       "        [0.4900, 0.8893, 0.8960]])"
      ]
     },
     "execution_count": 22,
     "metadata": {},
     "output_type": "execute_result"
    }
   ],
   "source": [
    "y = torch.rand(5, 3)\n",
    "y"
   ]
  },
  {
   "cell_type": "code",
   "execution_count": 23,
   "metadata": {},
   "outputs": [],
   "source": [
    "indices = torch.LongTensor([0, 2])"
   ]
  },
  {
   "cell_type": "code",
   "execution_count": 24,
   "metadata": {},
   "outputs": [],
   "source": [
    "# непоследовательная выборка из тензора\n",
    "\n",
    "torch.index_select?"
   ]
  },
  {
   "cell_type": "code",
   "execution_count": 25,
   "metadata": {},
   "outputs": [
    {
     "data": {
      "text/plain": [
       "tensor([[1.0194e-38, 9.2755e-39],\n",
       "        [9.1837e-39, 1.0745e-38],\n",
       "        [1.0653e-38, 1.0561e-38],\n",
       "        [1.0194e-38, 1.0561e-38],\n",
       "        [9.9184e-39, 4.1327e-39]])"
      ]
     },
     "execution_count": 25,
     "metadata": {},
     "output_type": "execute_result"
    }
   ],
   "source": [
    "torch.index_select(x, dim=1, index=indices)"
   ]
  },
  {
   "cell_type": "markdown",
   "metadata": {},
   "source": [
    "Обратите внимание, что тип индексов — LongTensor; таковы требования к доступу\n",
    "по индексу при использовании функций PyTorch. Можно также выполнять объединение тензоров с помощью встроенных функций конкатенации, указывая тензоры и нужные измерения."
   ]
  },
  {
   "cell_type": "code",
   "execution_count": 26,
   "metadata": {},
   "outputs": [
    {
     "data": {
      "text/plain": [
       "tensor([[0.7639, 0.6921, 0.8302],\n",
       "        [0.0788, 0.8946, 0.4697],\n",
       "        [0.8550, 0.9359, 0.8018],\n",
       "        [0.7076, 0.9006, 0.8673],\n",
       "        [0.4900, 0.8893, 0.8960]])"
      ]
     },
     "execution_count": 26,
     "metadata": {},
     "output_type": "execute_result"
    }
   ],
   "source": [
    "# `+`\n",
    "\n",
    "z = torch.add(x, y)\n",
    "z"
   ]
  },
  {
   "cell_type": "code",
   "execution_count": 27,
   "metadata": {},
   "outputs": [
    {
     "data": {
      "text/plain": [
       "tensor([[0.7639, 0.6921, 0.8302],\n",
       "        [0.0788, 0.8946, 0.4697],\n",
       "        [0.8550, 0.9359, 0.8018],\n",
       "        [0.7076, 0.9006, 0.8673],\n",
       "        [0.4900, 0.8893, 0.8960],\n",
       "        [0.7639, 0.6921, 0.8302],\n",
       "        [0.0788, 0.8946, 0.4697],\n",
       "        [0.8550, 0.9359, 0.8018],\n",
       "        [0.7076, 0.9006, 0.8673],\n",
       "        [0.4900, 0.8893, 0.8960]])"
      ]
     },
     "execution_count": 27,
     "metadata": {},
     "output_type": "execute_result"
    }
   ],
   "source": [
    "# concat\n",
    "\n",
    "torch.cat([y, z], dim=0)"
   ]
  },
  {
   "cell_type": "markdown",
   "metadata": {},
   "source": [
    "Any operation that mutates a tensor in-place is post-fixed with an `_`. For example: `x.copy_(y)`, `x.t_()`, will change `x`."
   ]
  },
  {
   "cell_type": "code",
   "execution_count": 28,
   "metadata": {},
   "outputs": [
    {
     "data": {
      "text/plain": [
       "tensor([[0.7639, 0.0788, 0.8550, 0.7076, 0.4900],\n",
       "        [0.6921, 0.8946, 0.9359, 0.9006, 0.8893],\n",
       "        [0.8302, 0.4697, 0.8018, 0.8673, 0.8960]])"
      ]
     },
     "execution_count": 28,
     "metadata": {},
     "output_type": "execute_result"
    }
   ],
   "source": [
    "z.t_()\n",
    "z"
   ]
  },
  {
   "cell_type": "code",
   "execution_count": 29,
   "metadata": {},
   "outputs": [
    {
     "data": {
      "text/plain": [
       "torch.Size([3, 5])"
      ]
     },
     "execution_count": 29,
     "metadata": {},
     "output_type": "execute_result"
    }
   ],
   "source": [
    "z.size()"
   ]
  },
  {
   "cell_type": "code",
   "execution_count": 30,
   "metadata": {},
   "outputs": [
    {
     "data": {
      "text/plain": [
       "tensor([0.4900, 0.8893, 0.8960])"
      ]
     },
     "execution_count": 30,
     "metadata": {},
     "output_type": "execute_result"
    }
   ],
   "source": [
    "z[:, -1]"
   ]
  },
  {
   "cell_type": "markdown",
   "metadata": {},
   "source": [
    "**Resizing**: If you want to resize/reshape tensor, you can use `torch.view`:"
   ]
  },
  {
   "cell_type": "code",
   "execution_count": 31,
   "metadata": {},
   "outputs": [
    {
     "name": "stdout",
     "output_type": "stream",
     "text": [
      "torch.Size([4, 4]) torch.Size([16]) torch.Size([2, 8])\n"
     ]
    }
   ],
   "source": [
    "a = torch.randn(4, 4)\n",
    "b = a.view(16)\n",
    "c = a.view(-1, 8)  # the size -1 is inferred from other dimensions\n",
    "print(a.size(), b.size(), c.size())"
   ]
  },
  {
   "cell_type": "code",
   "execution_count": 32,
   "metadata": {},
   "outputs": [
    {
     "data": {
      "text/plain": [
       "(tensor([[ 0.4881, -0.6317,  0.9597,  1.2457],\n",
       "         [ 1.5078, -0.9628,  0.0953, -0.6028],\n",
       "         [-0.2485,  0.2688, -1.3205,  0.0413],\n",
       "         [ 0.2237, -0.2122, -0.2026,  1.1516]]),\n",
       " tensor([ 0.4881, -0.6317,  0.9597,  1.2457,  1.5078, -0.9628,  0.0953, -0.6028,\n",
       "         -0.2485,  0.2688, -1.3205,  0.0413,  0.2237, -0.2122, -0.2026,  1.1516]),\n",
       " tensor([[ 0.4881, -0.6317,  0.9597,  1.2457,  1.5078, -0.9628,  0.0953, -0.6028],\n",
       "         [-0.2485,  0.2688, -1.3205,  0.0413,  0.2237, -0.2122, -0.2026,  1.1516]]))"
      ]
     },
     "execution_count": 32,
     "metadata": {},
     "output_type": "execute_result"
    }
   ],
   "source": [
    "a,b,c"
   ]
  },
  {
   "cell_type": "code",
   "execution_count": 33,
   "metadata": {},
   "outputs": [
    {
     "data": {
      "text/plain": [
       "(0.04133037477731705, float)"
      ]
     },
     "execution_count": 33,
     "metadata": {},
     "output_type": "execute_result"
    }
   ],
   "source": [
    "a[2,3].item(), type(a[2,3].item())"
   ]
  },
  {
   "cell_type": "code",
   "execution_count": 34,
   "metadata": {},
   "outputs": [
    {
     "data": {
      "text/plain": [
       "(tensor([[0.4605, 0.2636, 0.1207],\n",
       "         [0.2765, 0.5210, 0.7984],\n",
       "         [0.0901, 0.3409, 0.1167]]), tensor([[[0.4605, 0.2636, 0.1207],\n",
       "          [0.2765, 0.5210, 0.7984],\n",
       "          [0.0901, 0.3409, 0.1167]]]), tensor([[0.4605, 0.2636, 0.1207],\n",
       "         [0.2765, 0.5210, 0.7984],\n",
       "         [0.0901, 0.3409, 0.1167]]))"
      ]
     },
     "execution_count": 34,
     "metadata": {},
     "output_type": "execute_result"
    }
   ],
   "source": [
    "a = torch.rand(3, 3)\n",
    "\n",
    "# добавьте в него новое измерение размером 1\n",
    "b = a.unsqueeze(0)\n",
    "\n",
    "# удалить измерение\n",
    "c = b.squeeze(0)\n",
    "\n",
    "a, b, c"
   ]
  },
  {
   "cell_type": "markdown",
   "metadata": {},
   "source": [
    "Пакетное произведение двух трехмерных матриц `A2=torch.rand(3,4,5)` и `B2=torch.rand(3,5,4))`"
   ]
  },
  {
   "cell_type": "code",
   "execution_count": 35,
   "metadata": {},
   "outputs": [
    {
     "data": {
      "text/plain": [
       "tensor([[[1.0119, 1.1505, 1.0143, 1.4984],\n",
       "         [1.5249, 1.3300, 1.6218, 1.9445],\n",
       "         [1.4443, 0.9338, 1.4907, 1.7936],\n",
       "         [0.8247, 0.6208, 0.7870, 1.2722]],\n",
       "\n",
       "        [[0.6775, 0.5240, 0.8258, 1.1253],\n",
       "         [1.1274, 1.2248, 0.9387, 1.7912],\n",
       "         [1.1123, 1.2278, 1.2266, 2.0158],\n",
       "         [1.2720, 1.1341, 0.6198, 1.2739]],\n",
       "\n",
       "        [[1.6329, 0.9381, 0.9213, 0.9097],\n",
       "         [1.3581, 0.8044, 1.0222, 0.7999],\n",
       "         [1.5646, 0.8983, 1.1826, 0.8216],\n",
       "         [1.4814, 0.6591, 0.8312, 0.7530]]])"
      ]
     },
     "execution_count": 35,
     "metadata": {},
     "output_type": "execute_result"
    }
   ],
   "source": [
    "A2 = torch.rand(3, 4, 5)\n",
    "B2 = torch.rand(3, 5, 4)\n",
    "torch.bmm(A2, B2)"
   ]
  },
  {
   "cell_type": "markdown",
   "metadata": {},
   "source": [
    "Пакетное произведение трехмерной и двумерной матриц"
   ]
  },
  {
   "cell_type": "code",
   "execution_count": 36,
   "metadata": {},
   "outputs": [
    {
     "data": {
      "text/plain": [
       "tensor([[[0.6797, 0.8483, 1.3039, 0.6993],\n",
       "         [1.2568, 1.0764, 1.5570, 1.1395],\n",
       "         [1.0965, 1.1881, 1.7671, 1.2077],\n",
       "         [0.4635, 0.5733, 1.1338, 0.6418]],\n",
       "\n",
       "        [[0.6874, 0.6324, 1.4293, 0.8585],\n",
       "         [1.7335, 1.2520, 1.1749, 1.1631],\n",
       "         [1.5763, 1.3337, 1.7259, 1.3174],\n",
       "         [1.1193, 1.2839, 1.1505, 0.7893]],\n",
       "\n",
       "        [[1.0019, 0.7535, 1.2921, 0.7641],\n",
       "         [1.0729, 0.9044, 1.1684, 0.8804],\n",
       "         [1.1504, 1.0619, 1.6421, 1.1715],\n",
       "         [1.3611, 1.0130, 1.3379, 1.1430]]])"
      ]
     },
     "execution_count": 36,
     "metadata": {},
     "output_type": "execute_result"
    }
   ],
   "source": [
    "B3 = torch.rand(5, 4)\n",
    "torch.bmm(A2, B3.unsqueeze(0).expand(A2.size(0), *B3.size()))"
   ]
  },
  {
   "cell_type": "markdown",
   "metadata": {},
   "source": [
    "### CUDA"
   ]
  },
  {
   "cell_type": "markdown",
   "metadata": {},
   "source": [
    "До сих пор наши тензоры располагались в памяти CPU. При выполнении операций линейной алгебры имеет смысл воспользоваться GPU, если в вашей системе\n",
    "он есть. Для применения GPU необходимо сначала выделить под тензор место\n",
    "в памяти GPU. Доступ к GPU производится с помощью специализированного\n",
    "API — CUDA. **API CUDA был создан компанией NVIDIA**, его можно использо-\n",
    "Тензоры CUDA вать только для GPU производства NVIDIA.\n",
    ".\n",
    "\n",
    "В PyTorch есть объекты-тензоры\n",
    "для CUDA, неотличимые на практике от обычных CPU-тензоров, за исключением\n",
    "внутреннего механизма выделения памяти.\n",
    "PyTorch обеспечивает простоту создания этих CUDA-тензоров, поддерживая\n",
    "перемещение тензоров с CPU на GPU с сохранением их базового типа. В PyTorch\n",
    "рекомендуется применять аппаратно независимый подход и писать код, который бы\n",
    "работал как на CPU, так и на GPU.\n",
    "\n",
    "\n",
    "Проверяем, доступен ли GPU, с помощью функции `torch.cuda.is_available()` и извлекаем название\n",
    "устройства, вызвав метод `torch.device()`. Далее мы создаем все будущие тензоры\n",
    "и перемещаем их на нужное устройство с помощью метода `.to(device)`."
   ]
  },
  {
   "cell_type": "code",
   "execution_count": 37,
   "metadata": {},
   "outputs": [
    {
     "data": {
      "text/plain": [
       "False"
      ]
     },
     "execution_count": 37,
     "metadata": {},
     "output_type": "execute_result"
    }
   ],
   "source": [
    "torch.cuda.is_available()"
   ]
  },
  {
   "cell_type": "markdown",
   "metadata": {},
   "source": [
    "### [AUTOGRAD](https://pytorch.org/docs/stable/autograd.html#module-torch.autograd)\n",
    "\n",
    "\n",
    "``torch.Tensor`` is the central class of the package. If you set its attribute\n",
    "``.requires_grad`` as ``True``, it starts to track all operations on it. When\n",
    "you finish your computation you can call ``.backward()`` and have all the\n",
    "gradients computed automatically. The gradient for this tensor will be\n",
    "accumulated into ``.grad`` attribute."
   ]
  },
  {
   "cell_type": "code",
   "execution_count": 49,
   "metadata": {},
   "outputs": [
    {
     "name": "stdout",
     "output_type": "stream",
     "text": [
      "tensor([[1., 2.],\n",
      "        [3., 4.]], requires_grad=True)\n"
     ]
    }
   ],
   "source": [
    "# Create a 2x2 tensor with gradient-accumulation capabilities\n",
    "H = torch.tensor([[1, 2], [3, 4]], requires_grad=True, dtype=torch.float32)\n",
    "print(H)"
   ]
  },
  {
   "cell_type": "code",
   "execution_count": 51,
   "metadata": {},
   "outputs": [
    {
     "name": "stdout",
     "output_type": "stream",
     "text": [
      "tensor([[-1.,  0.],\n",
      "        [ 1.,  2.]], grad_fn=<SubBackward0>)\n"
     ]
    }
   ],
   "source": [
    "# Do an operation on the tensor:\n",
    "\n",
    "\n",
    "# Deduct 2 from all elements\n",
    "yH = H - 2\n",
    "print(yH)"
   ]
  },
  {
   "cell_type": "markdown",
   "metadata": {},
   "source": [
    "**`yH` was created as a result of an operation, so it has a `grad_fn`.**"
   ]
  },
  {
   "cell_type": "code",
   "execution_count": 57,
   "metadata": {},
   "outputs": [
    {
     "name": "stdout",
     "output_type": "stream",
     "text": [
      "<SubBackward0 object at 0x000002850616AD30>\n"
     ]
    }
   ],
   "source": [
    "print(yH.grad_fn)"
   ]
  },
  {
   "cell_type": "code",
   "execution_count": 58,
   "metadata": {},
   "outputs": [
    {
     "name": "stdout",
     "output_type": "stream",
     "text": [
      "None\n"
     ]
    }
   ],
   "source": [
    "# What's happening here?\n",
    "print(H.grad_fn)"
   ]
  },
  {
   "cell_type": "code",
   "execution_count": 59,
   "metadata": {},
   "outputs": [
    {
     "data": {
      "text/plain": [
       "<AccumulateGrad at 0x28506120e80>"
      ]
     },
     "execution_count": 59,
     "metadata": {},
     "output_type": "execute_result"
    }
   ],
   "source": [
    "# Let's dig further...\n",
    "yH.grad_fn.next_functions[0][0]"
   ]
  },
  {
   "cell_type": "code",
   "execution_count": 60,
   "metadata": {},
   "outputs": [
    {
     "data": {
      "text/plain": [
       "tensor([[1., 2.],\n",
       "        [3., 4.]], requires_grad=True)"
      ]
     },
     "execution_count": 60,
     "metadata": {},
     "output_type": "execute_result"
    }
   ],
   "source": [
    "yH.grad_fn.next_functions[0][0].variable"
   ]
  },
  {
   "cell_type": "code",
   "execution_count": 61,
   "metadata": {},
   "outputs": [
    {
     "name": "stdout",
     "output_type": "stream",
     "text": [
      "tensor([[ 3.,  0.],\n",
      "        [ 3., 12.]], grad_fn=<MulBackward0>)\n",
      "tensor(4.5000, grad_fn=<MeanBackward0>)\n"
     ]
    }
   ],
   "source": [
    "# Do more operations on y\n",
    "zH = yH * yH * 3\n",
    "aH = zH.mean()  # average\n",
    "\n",
    "print(zH)\n",
    "print(aH)"
   ]
  },
  {
   "cell_type": "markdown",
   "metadata": {},
   "source": [
    "Visualise the computational graph! [(thks @szagoruyko)](https://github.com/szagoruyko/pytorchviz)"
   ]
  },
  {
   "cell_type": "code",
   "execution_count": 67,
   "metadata": {},
   "outputs": [],
   "source": [
    "import os\n",
    "import sys\n",
    "sys.path.insert(0, os.path.abspath('C:/Users/Asus/GitHab_repos/lections/MAIN HELPER/easy_lections/ML_complex/pytorchviz-master/torchviz'))\n",
    "import dot"
   ]
  },
  {
   "cell_type": "markdown",
   "metadata": {},
   "source": [
    "<center><h3>/\\ some help topics for import /\\</h3></center>\n",
    "\n",
    "[Manipulating sys.path in the Notebook](https://mg.readthedocs.io/importing-local-python-modules-from-jupyter-notebooks/sys-path-in-notebook/path-notebook.html) or [Import py file in another directory in Jupyter notebook](https://stackoverflow.com/questions/49264194/import-py-file-in-another-directory-in-jupyter-notebook)"
   ]
  },
  {
   "cell_type": "code",
   "execution_count": 69,
   "metadata": {},
   "outputs": [
    {
     "data": {
      "image/svg+xml": [
       "<?xml version=\"1.0\" encoding=\"UTF-8\" standalone=\"no\"?>\r\n",
       "<!DOCTYPE svg PUBLIC \"-//W3C//DTD SVG 1.1//EN\"\r\n",
       " \"http://www.w3.org/Graphics/SVG/1.1/DTD/svg11.dtd\">\r\n",
       "<!-- Generated by graphviz version 2.38.0 (20140413.2041)\r\n",
       " -->\r\n",
       "<!-- Title: %3 Pages: 1 -->\r\n",
       "<svg width=\"104pt\" height=\"271pt\"\r\n",
       " viewBox=\"0.00 0.00 104.00 271.00\" xmlns=\"http://www.w3.org/2000/svg\" xmlns:xlink=\"http://www.w3.org/1999/xlink\">\r\n",
       "<g id=\"graph0\" class=\"graph\" transform=\"scale(1 1) rotate(0) translate(4 267)\">\r\n",
       "<title>%3</title>\r\n",
       "<polygon fill=\"white\" stroke=\"none\" points=\"-4,4 -4,-267 100,-267 100,4 -4,4\"/>\r\n",
       "<!-- 2770356168576 -->\r\n",
       "<g id=\"node1\" class=\"node\"><title>2770356168576</title>\r\n",
       "<polygon fill=\"#caff70\" stroke=\"black\" points=\"96,-21 0,-21 0,-0 96,-0 96,-21\"/>\r\n",
       "<text text-anchor=\"middle\" x=\"48\" y=\"-7.4\" font-family=\"Times New Roman,serif\" font-size=\"12.00\">MeanBackward0</text>\r\n",
       "</g>\r\n",
       "<!-- 2772224485360 -->\r\n",
       "<g id=\"node2\" class=\"node\"><title>2772224485360</title>\r\n",
       "<polygon fill=\"lightgrey\" stroke=\"black\" points=\"92,-78 4,-78 4,-57 92,-57 92,-78\"/>\r\n",
       "<text text-anchor=\"middle\" x=\"48\" y=\"-64.4\" font-family=\"Times New Roman,serif\" font-size=\"12.00\">MulBackward0</text>\r\n",
       "</g>\r\n",
       "<!-- 2772224485360&#45;&gt;2770356168576 -->\r\n",
       "<g id=\"edge1\" class=\"edge\"><title>2772224485360&#45;&gt;2770356168576</title>\r\n",
       "<path fill=\"none\" stroke=\"black\" d=\"M48,-56.9197C48,-49.9083 48,-40.1442 48,-31.4652\"/>\r\n",
       "<polygon fill=\"black\" stroke=\"black\" points=\"51.5001,-31.3408 48,-21.3408 44.5001,-31.3409 51.5001,-31.3408\"/>\r\n",
       "</g>\r\n",
       "<!-- 2772224484576 -->\r\n",
       "<g id=\"node3\" class=\"node\"><title>2772224484576</title>\r\n",
       "<polygon fill=\"lightgrey\" stroke=\"black\" points=\"92,-135 4,-135 4,-114 92,-114 92,-135\"/>\r\n",
       "<text text-anchor=\"middle\" x=\"48\" y=\"-121.4\" font-family=\"Times New Roman,serif\" font-size=\"12.00\">MulBackward0</text>\r\n",
       "</g>\r\n",
       "<!-- 2772224484576&#45;&gt;2772224485360 -->\r\n",
       "<g id=\"edge2\" class=\"edge\"><title>2772224484576&#45;&gt;2772224485360</title>\r\n",
       "<path fill=\"none\" stroke=\"black\" d=\"M48,-113.92C48,-106.908 48,-97.1442 48,-88.4652\"/>\r\n",
       "<polygon fill=\"black\" stroke=\"black\" points=\"51.5001,-88.3408 48,-78.3408 44.5001,-88.3409 51.5001,-88.3408\"/>\r\n",
       "</g>\r\n",
       "<!-- 2772224485528 -->\r\n",
       "<g id=\"node4\" class=\"node\"><title>2772224485528</title>\r\n",
       "<polygon fill=\"lightgrey\" stroke=\"black\" points=\"92,-192 4,-192 4,-171 92,-171 92,-192\"/>\r\n",
       "<text text-anchor=\"middle\" x=\"48\" y=\"-178.4\" font-family=\"Times New Roman,serif\" font-size=\"12.00\">SubBackward0</text>\r\n",
       "</g>\r\n",
       "<!-- 2772224485528&#45;&gt;2772224484576 -->\r\n",
       "<g id=\"edge3\" class=\"edge\"><title>2772224485528&#45;&gt;2772224484576</title>\r\n",
       "<path fill=\"none\" stroke=\"black\" d=\"M42.7332,-170.92C41.3546,-163.908 40.9371,-154.144 41.4804,-145.465\"/>\r\n",
       "<polygon fill=\"black\" stroke=\"black\" points=\"44.979,-145.684 42.6826,-135.341 38.0278,-144.858 44.979,-145.684\"/>\r\n",
       "</g>\r\n",
       "<!-- 2772224485528&#45;&gt;2772224484576 -->\r\n",
       "<g id=\"edge5\" class=\"edge\"><title>2772224485528&#45;&gt;2772224484576</title>\r\n",
       "<path fill=\"none\" stroke=\"black\" d=\"M53.2668,-170.92C54.6454,-163.908 55.0629,-154.144 54.5196,-145.465\"/>\r\n",
       "<polygon fill=\"black\" stroke=\"black\" points=\"57.9722,-144.858 53.3174,-135.341 51.021,-145.684 57.9722,-144.858\"/>\r\n",
       "</g>\r\n",
       "<!-- 2770355752576 -->\r\n",
       "<g id=\"node5\" class=\"node\"><title>2770355752576</title>\r\n",
       "<polygon fill=\"lightblue\" stroke=\"black\" points=\"75,-263 21,-263 21,-228 75,-228 75,-263\"/>\r\n",
       "<text text-anchor=\"middle\" x=\"48\" y=\"-235.4\" font-family=\"Times New Roman,serif\" font-size=\"12.00\"> (2, 2)</text>\r\n",
       "</g>\r\n",
       "<!-- 2770355752576&#45;&gt;2772224485528 -->\r\n",
       "<g id=\"edge4\" class=\"edge\"><title>2770355752576&#45;&gt;2772224485528</title>\r\n",
       "<path fill=\"none\" stroke=\"black\" d=\"M48,-227.885C48,-219.994 48,-210.505 48,-202.248\"/>\r\n",
       "<polygon fill=\"black\" stroke=\"black\" points=\"51.5001,-202.018 48,-192.018 44.5001,-202.018 51.5001,-202.018\"/>\r\n",
       "</g>\r\n",
       "</g>\r\n",
       "</svg>\r\n"
      ],
      "text/plain": [
       "<graphviz.dot.Digraph at 0x285061867f0>"
      ]
     },
     "execution_count": 69,
     "metadata": {},
     "output_type": "execute_result"
    }
   ],
   "source": [
    "from dot import make_dot, make_dot_from_trace\n",
    "\n",
    "make_dot(aH)"
   ]
  },
  {
   "cell_type": "code",
   "execution_count": null,
   "metadata": {},
   "outputs": [],
   "source": []
  },
  {
   "cell_type": "code",
   "execution_count": null,
   "metadata": {},
   "outputs": [],
   "source": []
  },
  {
   "cell_type": "markdown",
   "metadata": {},
   "source": [
    "Create a tensor and set `requires_grad=True` to track computation with it"
   ]
  },
  {
   "cell_type": "code",
   "execution_count": 38,
   "metadata": {},
   "outputs": [
    {
     "data": {
      "text/plain": [
       "tensor([[0.4799, 0.1197, 0.1643],\n",
       "        [0.6158, 0.8919, 0.0246],\n",
       "        [0.2482, 0.4007, 0.8596],\n",
       "        [0.5937, 0.6129, 0.8028],\n",
       "        [0.0041, 0.2728, 0.1618]], requires_grad=True)"
      ]
     },
     "execution_count": 38,
     "metadata": {},
     "output_type": "execute_result"
    }
   ],
   "source": [
    "y = torch.rand(5, 3, requires_grad=True)\n",
    "y"
   ]
  },
  {
   "cell_type": "code",
   "execution_count": 39,
   "metadata": {},
   "outputs": [
    {
     "data": {
      "text/plain": [
       "tensor([[0.4799, 0.1197, 0.1643],\n",
       "        [0.6158, 0.8919, 0.0246],\n",
       "        [0.2482, 0.4007, 0.8596],\n",
       "        [0.5937, 0.6129, 0.8028],\n",
       "        [0.0041, 0.2728, 0.1618]], requires_grad=True)"
      ]
     },
     "execution_count": 39,
     "metadata": {},
     "output_type": "execute_result"
    }
   ],
   "source": [
    "torch.add(z.t_(), y)\n",
    "y"
   ]
  },
  {
   "cell_type": "code",
   "execution_count": 40,
   "metadata": {},
   "outputs": [
    {
     "data": {
      "text/plain": [
       "tensor([[8.4799, 8.1197, 8.1643],\n",
       "        [8.6158, 8.8919, 8.0246],\n",
       "        [8.2482, 8.4007, 8.8596],\n",
       "        [8.5937, 8.6129, 8.8028],\n",
       "        [8.0041, 8.2728, 8.1618]], grad_fn=<AddBackward0>)"
      ]
     },
     "execution_count": 40,
     "metadata": {},
     "output_type": "execute_result"
    }
   ],
   "source": [
    "y = y+8\n",
    "y"
   ]
  },
  {
   "cell_type": "markdown",
   "metadata": {},
   "source": [
    "Когда тензор создается с параметром `requires_grad=True`, тем самым от PyTorch\n",
    "требуется хранить вспомогательную информацию, необходимую для вычисления\n",
    "градиентов. Во-первых, PyTorch будет отслеживать значения, получаемые при\n",
    "прямом проходе.\n",
    "\n",
    "\n",
    "Затем, в конце вычислений, для определения обратного шага\n",
    "используется одно скалярное значение. Обратный шаг запускается путем вызова\n",
    "метода `backward()` для тензора, полученного в результате вычисления функции\n",
    "потерь. При обратном шаге вычисляется значение градиента для объекта-тензора,\n",
    "участвовавшего в прямом шаге.\n",
    "\n",
    "\n",
    "В целом градиент представляет собой значение, отражающее угол наклона выходного значения функции по отношению к ее входному значению. В сфере\n",
    "графов вычислений градиенты существуют для всех параметров модели, их\n",
    "можно считать вкладом каждого параметра в сигнал рассогласования. В PyTorch\n",
    "получить доступ к градиентам узлов графа вычислений можно с помощью переменной экземпляра `.grad`. Она используется при оптимизации для обновления\n",
    "значений параметров."
   ]
  },
  {
   "cell_type": "code",
   "execution_count": 41,
   "metadata": {},
   "outputs": [
    {
     "data": {
      "text/plain": [
       "tensor([ 336.6070, -935.9929, -468.6307], grad_fn=<MulBackward0>)"
      ]
     },
     "execution_count": 41,
     "metadata": {},
     "output_type": "execute_result"
    }
   ],
   "source": [
    "x = torch.randn(3, requires_grad=True)\n",
    "\n",
    "y = x * 2\n",
    "while y.data.norm() < 1000:\n",
    "    y = y * 2\n",
    "\n",
    "y"
   ]
  },
  {
   "cell_type": "markdown",
   "metadata": {},
   "source": [
    "Now in this case `y` is no longer a scalar. `torch.autograd` could not compute the full Jacobian directly, but if we just want the [vector-Jacobian](https://ru.wikipedia.org/wiki/%D0%9C%D0%B0%D1%82%D1%80%D0%B8%D1%86%D0%B0_%D0%AF%D0%BA%D0%BE%D0%B1%D0%B8) product, simply pass the vector to backward as argument:"
   ]
  },
  {
   "cell_type": "code",
   "execution_count": 42,
   "metadata": {},
   "outputs": [
    {
     "data": {
      "text/plain": [
       "tensor([256., 512., 256.])"
      ]
     },
     "execution_count": 42,
     "metadata": {},
     "output_type": "execute_result"
    }
   ],
   "source": [
    "v = torch.tensor([0.5, 1.0, 0.5], dtype=torch.float)\n",
    "y.backward(v)\n",
    "\n",
    "x.grad"
   ]
  },
  {
   "cell_type": "markdown",
   "metadata": {},
   "source": [
    "## [Autograd functions](https://pytorch.org/docs/stable/autograd.html#tensor-autograd-functions)"
   ]
  },
  {
   "cell_type": "markdown",
   "metadata": {},
   "source": [
    "Neural networks can be constructed using the `torch.nn` package."
   ]
  },
  {
   "cell_type": "markdown",
   "metadata": {},
   "source": [
    "A typical training procedure for a neural network is as follows:\n",
    "\n",
    "1. Define the neural network that has some learnable parameters (or weights)\n",
    "2. Iterate over a dataset of inputs\n",
    "3. Process input through the network\n",
    "4. Compute the loss (how far is the output from being correct)\n",
    "5. Propagate gradients back into the network’s parameters\n",
    "6. Update the weights of the network, typically using a simple update rule: `weight = weight - learning_rate * gradient`"
   ]
  },
  {
   "cell_type": "markdown",
   "metadata": {},
   "source": [
    "You just have to define the `forward` function, and the `backward` function (where gradients are computed) is automatically defined for you using `autograd`. You can use any of the Tensor operations in the `forward` function."
   ]
  },
  {
   "cell_type": "code",
   "execution_count": 43,
   "metadata": {},
   "outputs": [
    {
     "data": {
      "text/plain": [
       "Net(\n",
       "  (conv1): Conv2d(1, 6, kernel_size=(3, 3), stride=(1, 1))\n",
       "  (conv2): Conv2d(6, 16, kernel_size=(3, 3), stride=(1, 1))\n",
       "  (fc1): Linear(in_features=576, out_features=120, bias=True)\n",
       "  (fc2): Linear(in_features=120, out_features=84, bias=True)\n",
       "  (fc3): Linear(in_features=84, out_features=10, bias=True)\n",
       ")"
      ]
     },
     "execution_count": 43,
     "metadata": {},
     "output_type": "execute_result"
    }
   ],
   "source": [
    "class Net(nn.Module):\n",
    "\n",
    "    def __init__(self):\n",
    "        super(Net, self).__init__()\n",
    "        # 1 input image channel, 6 output channels, 3x3 square convolution\n",
    "        # kernel\n",
    "        self.conv1 = nn.Conv2d(1, 6, 3)\n",
    "        self.conv2 = nn.Conv2d(6, 16, 3)\n",
    "        # an affine operation: y = Wx + b\n",
    "        self.fc1 = nn.Linear(16 * 6 * 6, 120)  # 6*6 from image dimension\n",
    "        self.fc2 = nn.Linear(120, 84)\n",
    "        self.fc3 = nn.Linear(84, 10)\n",
    "\n",
    "    def forward(self, x):\n",
    "        # Max pooling over a (2, 2) window\n",
    "        x = F.max_pool2d(F.relu(self.conv1(x)), (2, 2))\n",
    "        # If the size is a square you can only specify a single number\n",
    "        x = F.max_pool2d(F.relu(self.conv2(x)), 2)\n",
    "        x = x.view(-1, self.num_flat_features(x))\n",
    "        x = F.relu(self.fc1(x))\n",
    "        x = F.relu(self.fc2(x))\n",
    "        x = self.fc3(x)\n",
    "        return x\n",
    "\n",
    "    def num_flat_features(self, x):\n",
    "        size = x.size()[1:]  # all dimensions except the batch dimension\n",
    "        num_features = 1\n",
    "        for s in size:\n",
    "            num_features *= s\n",
    "        return num_features\n",
    "\n",
    "\n",
    "net = Net()\n",
    "net"
   ]
  },
  {
   "cell_type": "code",
   "execution_count": 44,
   "metadata": {},
   "outputs": [
    {
     "name": "stdout",
     "output_type": "stream",
     "text": [
      "10\n",
      "torch.Size([6, 1, 3, 3])\n",
      "torch.Size([6])\n",
      "torch.Size([16, 6, 3, 3])\n",
      "torch.Size([16])\n",
      "torch.Size([120, 576])\n",
      "torch.Size([120])\n",
      "torch.Size([84, 120])\n",
      "torch.Size([84])\n",
      "torch.Size([10, 84])\n",
      "torch.Size([10])\n"
     ]
    }
   ],
   "source": [
    "params = list(net.parameters())\n",
    "print(len(params))\n",
    "for _ in params:\n",
    "    print(_.size())"
   ]
  },
  {
   "cell_type": "code",
   "execution_count": 45,
   "metadata": {},
   "outputs": [
    {
     "name": "stdout",
     "output_type": "stream",
     "text": [
      "tensor([[ 0.1354, -0.0072,  0.1608,  0.0603, -0.0439,  0.1093,  0.0255,  0.0751,\n",
      "          0.0338, -0.0374]], grad_fn=<AddmmBackward>)\n"
     ]
    }
   ],
   "source": [
    "input = torch.randn(1, 1, 32, 32)\n",
    "out = net(input)\n",
    "print(out)"
   ]
  },
  {
   "cell_type": "code",
   "execution_count": 46,
   "metadata": {},
   "outputs": [],
   "source": [
    "net.zero_grad()\n",
    "out.backward(torch.randn(1, 10))"
   ]
  },
  {
   "cell_type": "markdown",
   "metadata": {},
   "source": [
    "``torch.nn`` only supports mini-batches. The entire ``torch.nn``\n",
    "package only supports inputs that are a mini-batch of samples, and not\n",
    "a single sample.\n",
    "\n",
    "For example, ``nn.Conv2d`` will take in a 4D Tensor of\n",
    "``nSamples x nChannels x Height x Width``.\n",
    "\n",
    "If you have a single sample, just use ``input.unsqueeze(0)`` to add\n",
    "a fake batch dimension.\n",
    "\n",
    "Before proceeding further, let's recap all the classes you’ve seen so far.\n",
    "\n",
    "**Recap:**\n",
    "  -  ``torch.Tensor`` - A *multi-dimensional array* with support for autograd\n",
    "     operations like ``backward()``. Also *holds the gradient* w.r.t. the\n",
    "     tensor.\n",
    "  -  ``nn.Module`` - Neural network module. *Convenient way of\n",
    "     encapsulating parameters*, with helpers for moving them to GPU,\n",
    "     exporting, loading, etc.\n",
    "  -  ``nn.Parameter`` - A kind of Tensor, that is *automatically\n",
    "     registered as a parameter when assigned as an attribute to a*\n",
    "     ``Module``.\n",
    "  -  ``autograd.Function`` - Implements *forward and backward definitions\n",
    "     of an autograd operation*. Every ``Tensor`` operation creates at\n",
    "     least a single ``Function`` node that connects to functions that\n",
    "     created a ``Tensor`` and *encodes its history*.\n",
    "\n",
    "**At this point, we covered:**\n",
    "  -  Defining a neural network\n",
    "  -  Processing inputs and calling backward\n",
    "\n",
    "**Still Left:**\n",
    "  -  Computing the loss\n",
    "  -  Updating the weights of the network\n",
    "\n",
    "Loss Function\n",
    "-------------\n",
    "A loss function takes the (output, target) pair of inputs, and computes a\n",
    "value that estimates how far away the output is from the target.\n",
    "\n",
    "There are several different\n",
    "[`loss functions`](https://pytorch.org/docs/nn.html#loss-functions) under the\n",
    "nn package .\n",
    "A simple loss is: ``nn.MSELoss`` which computes the mean-squared error\n",
    "between the input and the target."
   ]
  },
  {
   "cell_type": "code",
   "execution_count": 47,
   "metadata": {},
   "outputs": [
    {
     "name": "stdout",
     "output_type": "stream",
     "text": [
      "tensor(0.6874, grad_fn=<MseLossBackward>)\n"
     ]
    }
   ],
   "source": [
    "output = net(input)\n",
    "target = torch.randn(10)  # a dummy target, for example\n",
    "target = target.view(1, -1)  # make it the same shape as output\n",
    "criterion = nn.MSELoss()\n",
    "\n",
    "loss = criterion(output, target)\n",
    "print(loss)"
   ]
  },
  {
   "cell_type": "markdown",
   "metadata": {},
   "source": [
    "So, when we call ``loss.backward()``, the whole graph is differentiated\n",
    "w.r.t. the loss, and all Tensors in the graph that has ``requires_grad=True``\n",
    "will have their ``.grad`` Tensor accumulated with the gradient.\n",
    "\n",
    "For illustration, let us follow a few steps backward:"
   ]
  },
  {
   "cell_type": "code",
   "execution_count": 48,
   "metadata": {},
   "outputs": [
    {
     "name": "stdout",
     "output_type": "stream",
     "text": [
      "<MseLossBackward object at 0x000002850616AB00>\n",
      "<AddmmBackward object at 0x000002850616AB00>\n",
      "<AccumulateGrad object at 0x0000028506116A58>\n"
     ]
    }
   ],
   "source": [
    "print(loss.grad_fn)  # MSELoss\n",
    "print(loss.grad_fn.next_functions[0][0])  # Linear\n",
    "print(loss.grad_fn.next_functions[0][0].next_functions[0][0])  # ReLU"
   ]
  },
  {
   "cell_type": "code",
   "execution_count": null,
   "metadata": {},
   "outputs": [],
   "source": []
  },
  {
   "cell_type": "code",
   "execution_count": null,
   "metadata": {},
   "outputs": [],
   "source": []
  },
  {
   "cell_type": "markdown",
   "metadata": {},
   "source": [
    "### Функции активации"
   ]
  },
  {
   "cell_type": "code",
   "execution_count": 23,
   "metadata": {},
   "outputs": [
    {
     "name": "stderr",
     "output_type": "stream",
     "text": [
      "C:\\Users\\Asus\\Anaconda3\\lib\\site-packages\\ipykernel_launcher.py:3: UserWarning: torch.range is deprecated in favor of torch.arange and will be removed in 0.5. Note that arange generates values in [start; end), not [start; end].\n",
      "  This is separate from the ipykernel package so we can avoid doing imports until\n"
     ]
    },
    {
     "data": {
      "image/png": "[encoded data removed]",
      "text/plain": [
       "<Figure size 432x288 with 1 Axes>"
      ]
     },
     "metadata": {
      "needs_background": "light"
     },
     "output_type": "display_data"
    }
   ],
   "source": [
    "x = torch.range(-5., 5., 0.1)\n",
    "y = torch.sigmoid(x)\n",
    "ax = plt.plot(x.numpy(), y.numpy())\n",
    "plt.grid()\n",
    "plt.show()"
   ]
  },
  {
   "cell_type": "code",
   "execution_count": 24,
   "metadata": {},
   "outputs": [
    {
     "name": "stderr",
     "output_type": "stream",
     "text": [
      "C:\\Users\\Asus\\Anaconda3\\lib\\site-packages\\ipykernel_launcher.py:3: UserWarning: torch.range is deprecated in favor of torch.arange and will be removed in 0.5. Note that arange generates values in [start; end), not [start; end].\n",
      "  This is separate from the ipykernel package so we can avoid doing imports until\n"
     ]
    },
    {
     "data": {
      "image/png": "[encoded data removed]",
      "text/plain": [
       "<Figure size 432x288 with 1 Axes>"
      ]
     },
     "metadata": {
      "needs_background": "light"
     },
     "output_type": "display_data"
    }
   ],
   "source": [
    "import torch\n",
    "import matplotlib.pyplot as plt\n",
    "x = torch.range(-5., 5., 0.1)\n",
    "y = torch.tanh(x)\n",
    "plt.plot(x.numpy(), y.numpy())\n",
    "plt.grid()\n",
    "plt.show()"
   ]
  },
  {
   "cell_type": "code",
   "execution_count": 26,
   "metadata": {},
   "outputs": [
    {
     "name": "stderr",
     "output_type": "stream",
     "text": [
      "C:\\Users\\Asus\\Anaconda3\\lib\\site-packages\\ipykernel_launcher.py:4: UserWarning: torch.range is deprecated in favor of torch.arange and will be removed in 0.5. Note that arange generates values in [start; end), not [start; end].\n",
      "  after removing the cwd from sys.path.\n"
     ]
    },
    {
     "data": {
      "image/png": "[encoded data removed]",
      "text/plain": [
       "<Figure size 432x288 with 1 Axes>"
      ]
     },
     "metadata": {
      "needs_background": "light"
     },
     "output_type": "display_data"
    }
   ],
   "source": [
    "import torch\n",
    "import matplotlib.pyplot as plt\n",
    "relu = torch.nn.ReLU()\n",
    "x = torch.range(-5., 5., 0.1)\n",
    "y = relu(x)\n",
    "plt.plot(x.numpy(), y.numpy())\n",
    "plt.grid()\n",
    "plt.show()"
   ]
  },
  {
   "cell_type": "markdown",
   "metadata": {},
   "source": [
    "## <center> Регуляризация </center>\n",
    "\n",
    "Одно из важнейших понятий глубокого обучения (и машинного обучения вообще) — **регуляризация (regularization)**. Истоки понятия регуляризации лежат\n",
    "в теории численной оптимизации. Как вы помните, большинство алгоритмов\n",
    "машинного обучения оптимизируют функцию потерь для поиска наиболее вероятных значений параметров (или «модели»), объясняющих наблюдаемые значения,\n",
    "то есть минимизирующих потери. Для большинства наборов данных и задач существует несколько решений (возможных моделей) задачи оптимизации. Так какое\n",
    "из них нам (или оптимизатору) выбрать?\n",
    "\n",
    "<img src=\"https://upload.wikimedia.org/wikipedia/commons/thumb/0/02/Regularization.svg/1024px-Regularization.svg.png\" style=\"width: 400px\"/>\n",
    "\n",
    "Обе кривые подходят для указанных точек, но какая из них менее вероятна?\n",
    "Обращаясь к бритве Оккама, мы интуитивно понимаем, что простое объяснение\n",
    "лучше сложного. Подобное ограничение гладкости в машинном обучении называется **L2-регуляризацией**. Управлять ею в PyTorch можно с помощью параметра `weight_decay` оптимизатора. Чем больше значение параметра `weight_decay`, тем\n",
    "вероятнее выбор оптимизатором более гладкого (smoother) обоснования (то есть\n",
    "тем сильнее L2-регуляризация).\n",
    "\n",
    "\n",
    "Кроме L2-регуляризации, часто используется и **L1-регуляризация**, обычно для того,\n",
    "чтобы подтолкнуть алгоритм к более разреженным решениям, то есть таким, в которых большинство параметров модели близки к нулю.\n",
    "\n",
    "<p></p><img src=\"https://msdn.microsoft.com/en-us/dn904675.McCaffreyTRun_Figure%203%20vertical_hires(en-us,MSDN.10).png\" style=\"width: 500px\"/>\n",
    "\n",
    "\n",
    "<a href=\"https://docs.microsoft.com/en-us/archive/msdn-magazine/2015/february/test-run-l1-and-l2-regularization-for-machine-learning#understanding-regularization\" target=\"_parent\">\n",
    "    <h4><center><font color=black>Understanding Regularization</font></center></h4></a>"
   ]
  },
  {
   "cell_type": "markdown",
   "metadata": {},
   "source": [
    "[Example Notebook with LinearSVC model](https://github.com/buomsoo-kim/Machine-learning-toolkits-with-python/blob/master/Regularization%20and%20feature%20selection%20(L1%20vs%20L2%20regularization)/source%20code/L1-and-L2-regularization.ipynb)"
   ]
  },
  {
   "cell_type": "code",
   "execution_count": null,
   "metadata": {},
   "outputs": [],
   "source": []
  },
  {
   "cell_type": "code",
   "execution_count": null,
   "metadata": {},
   "outputs": [],
   "source": []
  },
  {
   "cell_type": "markdown",
   "metadata": {},
   "source": [
    "## Built a Net"
   ]
  },
  {
   "cell_type": "code",
   "execution_count": 2,
   "metadata": {},
   "outputs": [
    {
     "data": {
      "text/html": [
       "<div>\n",
       "<style scoped>\n",
       "    .dataframe tbody tr th:only-of-type {\n",
       "        vertical-align: middle;\n",
       "    }\n",
       "\n",
       "    .dataframe tbody tr th {\n",
       "        vertical-align: top;\n",
       "    }\n",
       "\n",
       "    .dataframe thead th {\n",
       "        text-align: right;\n",
       "    }\n",
       "</style>\n",
       "<table border=\"1\" class=\"dataframe\">\n",
       "  <thead>\n",
       "    <tr style=\"text-align: right;\">\n",
       "      <th></th>\n",
       "      <th>specialty</th>\n",
       "      <th>brand_name_rx_count</th>\n",
       "      <th>generic_rx_count</th>\n",
       "      <th>years_practicing</th>\n",
       "      <th>urban</th>\n",
       "      <th>bn_rx_proportion</th>\n",
       "      <th>drugs_variety</th>\n",
       "      <th>Midwest</th>\n",
       "      <th>Northeast</th>\n",
       "      <th>South</th>\n",
       "      <th>...</th>\n",
       "      <th>Infectious</th>\n",
       "      <th>Rheumatology</th>\n",
       "      <th>Cardiology</th>\n",
       "      <th>Psychiatry</th>\n",
       "      <th>Oncology</th>\n",
       "      <th>Nephrology</th>\n",
       "      <th>Pulmonology</th>\n",
       "      <th>Geriatric</th>\n",
       "      <th>Technology</th>\n",
       "      <th>male</th>\n",
       "    </tr>\n",
       "    <tr>\n",
       "      <th>npi</th>\n",
       "      <th></th>\n",
       "      <th></th>\n",
       "      <th></th>\n",
       "      <th></th>\n",
       "      <th></th>\n",
       "      <th></th>\n",
       "      <th></th>\n",
       "      <th></th>\n",
       "      <th></th>\n",
       "      <th></th>\n",
       "      <th></th>\n",
       "      <th></th>\n",
       "      <th></th>\n",
       "      <th></th>\n",
       "      <th></th>\n",
       "      <th></th>\n",
       "      <th></th>\n",
       "      <th></th>\n",
       "      <th></th>\n",
       "      <th></th>\n",
       "      <th></th>\n",
       "    </tr>\n",
       "  </thead>\n",
       "  <tbody>\n",
       "    <tr>\n",
       "      <th>1295763035</th>\n",
       "      <td>Nephrology</td>\n",
       "      <td>384</td>\n",
       "      <td>2287</td>\n",
       "      <td>7</td>\n",
       "      <td>0</td>\n",
       "      <td>0.167906</td>\n",
       "      <td>68</td>\n",
       "      <td>0</td>\n",
       "      <td>0</td>\n",
       "      <td>1</td>\n",
       "      <td>...</td>\n",
       "      <td>0</td>\n",
       "      <td>0</td>\n",
       "      <td>0</td>\n",
       "      <td>0</td>\n",
       "      <td>0</td>\n",
       "      <td>1</td>\n",
       "      <td>0</td>\n",
       "      <td>0</td>\n",
       "      <td>0</td>\n",
       "      <td>1</td>\n",
       "    </tr>\n",
       "    <tr>\n",
       "      <th>1992715205</th>\n",
       "      <td>General Practice</td>\n",
       "      <td>0</td>\n",
       "      <td>103</td>\n",
       "      <td>7</td>\n",
       "      <td>0</td>\n",
       "      <td>0.000000</td>\n",
       "      <td>3</td>\n",
       "      <td>0</td>\n",
       "      <td>0</td>\n",
       "      <td>1</td>\n",
       "      <td>...</td>\n",
       "      <td>0</td>\n",
       "      <td>0</td>\n",
       "      <td>0</td>\n",
       "      <td>0</td>\n",
       "      <td>0</td>\n",
       "      <td>0</td>\n",
       "      <td>0</td>\n",
       "      <td>0</td>\n",
       "      <td>0</td>\n",
       "      <td>1</td>\n",
       "    </tr>\n",
       "  </tbody>\n",
       "</table>\n",
       "<p>2 rows × 33 columns</p>\n",
       "</div>"
      ],
      "text/plain": [
       "                   specialty  brand_name_rx_count  generic_rx_count  \\\n",
       "npi                                                                   \n",
       "1295763035        Nephrology                  384              2287   \n",
       "1992715205  General Practice                    0               103   \n",
       "\n",
       "            years_practicing  urban  bn_rx_proportion  drugs_variety  Midwest  \\\n",
       "npi                                                                             \n",
       "1295763035                 7      0          0.167906             68        0   \n",
       "1992715205                 7      0          0.000000              3        0   \n",
       "\n",
       "            Northeast  South  ...  Infectious  Rheumatology  Cardiology  \\\n",
       "npi                           ...                                         \n",
       "1295763035          0      1  ...           0             0           0   \n",
       "1992715205          0      1  ...           0             0           0   \n",
       "\n",
       "            Psychiatry  Oncology  Nephrology  Pulmonology  Geriatric  \\\n",
       "npi                                                                    \n",
       "1295763035           0         0           1            0          0   \n",
       "1992715205           0         0           0            0          0   \n",
       "\n",
       "            Technology  male  \n",
       "npi                           \n",
       "1295763035           0     1  \n",
       "1992715205           0     1  \n",
       "\n",
       "[2 rows x 33 columns]"
      ]
     },
     "execution_count": 2,
     "metadata": {},
     "output_type": "execute_result"
    }
   ],
   "source": [
    "W_df = pd.read_csv('W_df.csv') \n",
    "W_df = W_df.set_index('npi')\n",
    "W_df.head(2)"
   ]
  },
  {
   "cell_type": "code",
   "execution_count": 3,
   "metadata": {},
   "outputs": [],
   "source": [
    "X_w = W_df.iloc[:30000,1:-1]\n",
    "y_w = W_df.iloc[:30000,-1]"
   ]
  },
  {
   "cell_type": "code",
   "execution_count": 4,
   "metadata": {},
   "outputs": [
    {
     "data": {
      "text/plain": [
       "((30000, 31), (30000,))"
      ]
     },
     "execution_count": 4,
     "metadata": {},
     "output_type": "execute_result"
    }
   ],
   "source": [
    "X_w.shape, y_w.shape"
   ]
  },
  {
   "cell_type": "code",
   "execution_count": 6,
   "metadata": {},
   "outputs": [],
   "source": [
    "X_w_train, X_w_test, y_w_train, y_w_test = train_test_split(X_w, y_w, test_size=0.20, stratify=y_w)"
   ]
  },
  {
   "cell_type": "code",
   "execution_count": 7,
   "metadata": {},
   "outputs": [],
   "source": [
    "X_w_train = X_w_train.to_numpy()\n",
    "y_w_train = y_w_train.to_numpy()"
   ]
  },
  {
   "cell_type": "code",
   "execution_count": 9,
   "metadata": {},
   "outputs": [],
   "source": [
    "n_input = X_w.shape[1] # Number of inputs\n",
    "\n",
    "# Layer size\n",
    "n_hidden = 8 # Number of hidden nodes\n",
    "n_output = 1 # Number of output nodes = for binary classifier"
   ]
  },
  {
   "cell_type": "markdown",
   "metadata": {},
   "source": [
    "далее определяем функции передачи данных между слоями:\n",
    "\n",
    "* [` nn.Linear()`](https://pytorch.org/docs/stable/nn.html#linear)\n",
    "* [`nn.ELU()`](https://pytorch.org/docs/stable/nn.html#elu)\n",
    "* [`nn.Sigmoid()`](https://pytorch.org/docs/stable/nn.html#sigmoid)"
   ]
  },
  {
   "cell_type": "code",
   "execution_count": 10,
   "metadata": {},
   "outputs": [
    {
     "name": "stdout",
     "output_type": "stream",
     "text": [
      "Sequential(\n",
      "  (0): Linear(in_features=31, out_features=8, bias=True)\n",
      "  (1): ELU(alpha=1.0)\n",
      "  (2): Linear(in_features=8, out_features=1, bias=True)\n",
      "  (3): Sigmoid()\n",
      ")\n"
     ]
    }
   ],
   "source": [
    "# Build network\n",
    "clf_NN = nn.Sequential(\n",
    "    nn.Linear(n_input, n_hidden),\n",
    "    nn.ELU(),\n",
    "    nn.Linear(n_hidden, n_output),\n",
    "    nn.Sigmoid())\n",
    "    \n",
    "print(clf_NN)"
   ]
  },
  {
   "cell_type": "markdown",
   "metadata": {},
   "source": [
    "Определим функцию потерь [`nn.BCELoss()`](https://pytorch.org/docs/stable/nn.html#bceloss), размер шага и алгоритм оптимизации — берем [Adam](https://arxiv.org/abs/1412.6980), можно пробовать другие варианты, уже реализованные в [pytorch](https://pytorch.org/docs/stable/optim.html#algorithms)."
   ]
  },
  {
   "cell_type": "code",
   "execution_count": 11,
   "metadata": {},
   "outputs": [],
   "source": [
    "loss_func = nn.BCELoss()\n",
    "learning_rate = 0.01\n",
    "optimizer = torch.optim.Adam(clf_NN.parameters(), lr=learning_rate)"
   ]
  },
  {
   "cell_type": "code",
   "execution_count": 12,
   "metadata": {},
   "outputs": [],
   "source": [
    "def run_clf_NN(X, y, clf_NN=clf_NN, epochs=500, loss_func=loss_func, lr=learning_rate, optimizer=optimizer):\n",
    "\n",
    "    loss_list = []\n",
    "    accuracy_list = []\n",
    "    y_pred_list = []\n",
    "    \n",
    "    y_t = torch.FloatTensor(y).reshape(-1, 1)\n",
    "\n",
    "    for e in range(epochs):\n",
    "        X_t = torch.FloatTensor(X)\n",
    "        y_hat = clf_NN(X_t)\n",
    "        loss = loss_func(y_hat, y_t)\n",
    "\n",
    "        # вычисляет значение ошибки/отклонения    \n",
    "        loss.backward()\n",
    "        # далее функци optimizer.step() обновляет веса опираясь на выявленную ошибку  \n",
    "        optimizer.step()\n",
    "        optimizer.zero_grad()\n",
    "        y_hat_class = np.where(y_hat.detach().numpy()<0.5, 0, 1)\n",
    "        accuracy = np.sum(y_w_train.reshape(-1,1)==y_hat_class) / len(y_w_train)\n",
    "        \n",
    "        # накапливаем данные    \n",
    "        y_pred_list.append(y_hat_class)\n",
    "        accuracy_list.append(accuracy)\n",
    "        loss_list.append(loss.item())\n",
    "        \n",
    "        \n",
    "    return y_pred_list, accuracy_list, loss_list"
   ]
  },
  {
   "cell_type": "code",
   "execution_count": 13,
   "metadata": {},
   "outputs": [],
   "source": [
    "def plot_NN_study(plot_name, loss_list, accuracy_list):\n",
    "    fig, ax = plt.subplots(2, 1, figsize=(12,8))\n",
    "    ax[0].plot(loss_list)\n",
    "    ax[0].set_ylabel('Loss')\n",
    "    ax[0].set_title('Accuracy through the epochs')\n",
    "\n",
    "    ax[1].plot(accuracy_list)\n",
    "    ax[1].set_ylabel('Classification Accuracy')\n",
    "    ax[1].set_title('Accuracy through the epochs')\n",
    "    plt.tight_layout()\n",
    "    \n",
    "    plt.savefig(f'{plot_name}.tiff', transparent=False, dpi=300, bbox_inches=\"tight\")\n",
    "    plt.show()\n",
    "    plt.close()"
   ]
  },
  {
   "cell_type": "code",
   "execution_count": 14,
   "metadata": {},
   "outputs": [],
   "source": [
    "y_pred_list, accuracy_list, loss_list = run_clf_NN(X_w_train, y_w_train, epochs=800)"
   ]
  },
  {
   "cell_type": "code",
   "execution_count": 15,
   "metadata": {},
   "outputs": [
    {
     "data": {
      "text/plain": [
       "24000"
      ]
     },
     "execution_count": 15,
     "metadata": {},
     "output_type": "execute_result"
    }
   ],
   "source": [
    "len(y_pred_list[-1])"
   ]
  },
  {
   "cell_type": "code",
   "execution_count": 16,
   "metadata": {},
   "outputs": [
    {
     "data": {
      "image/png": "[encoded data removed]",
      "text/plain": [
       "<Figure size 864x576 with 2 Axes>"
      ]
     },
     "metadata": {
      "needs_background": "light"
     },
     "output_type": "display_data"
    }
   ],
   "source": [
    "plot_NN_study('study_clf_NN', loss_list, accuracy_list)"
   ]
  },
  {
   "cell_type": "code",
   "execution_count": 19,
   "metadata": {},
   "outputs": [
    {
     "data": {
      "text/plain": [
       "[0.7172083333333333,\n",
       " 0.7162916666666667,\n",
       " 0.7156666666666667,\n",
       " 0.7169166666666666,\n",
       " 0.7170416666666667,\n",
       " 0.7150416666666667,\n",
       " 0.7115,\n",
       " 0.7125833333333333,\n",
       " 0.7124583333333333,\n",
       " 0.7147083333333333,\n",
       " 0.7153333333333334,\n",
       " 0.7162083333333333,\n",
       " 0.7155,\n",
       " 0.7154583333333333,\n",
       " 0.7138333333333333,\n",
       " 0.714875,\n",
       " 0.7143333333333334,\n",
       " 0.7167916666666667,\n",
       " 0.7164583333333333,\n",
       " 0.7174583333333333,\n",
       " 0.7166666666666667,\n",
       " 0.71775,\n",
       " 0.7165833333333333,\n",
       " 0.717375,\n",
       " 0.716625,\n",
       " 0.7175416666666666,\n",
       " 0.7159166666666666,\n",
       " 0.717375,\n",
       " 0.7160416666666667,\n",
       " 0.7169166666666666]"
      ]
     },
     "execution_count": 19,
     "metadata": {},
     "output_type": "execute_result"
    }
   ],
   "source": [
    "accuracy_list[-30:]"
   ]
  },
  {
   "cell_type": "code",
   "execution_count": null,
   "metadata": {},
   "outputs": [],
   "source": []
  }
 ],
 "metadata": {
  "kernelspec": {
   "display_name": "Python 3",
   "language": "python",
   "name": "python3"
  },
  "language_info": {
   "codemirror_mode": {
    "name": "ipython",
    "version": 3
   },
   "file_extension": ".py",
   "mimetype": "text/x-python",
   "name": "python",
   "nbconvert_exporter": "python",
   "pygments_lexer": "ipython3",
   "version": "3.7.3"
  }
 },
 "nbformat": 4,
 "nbformat_minor": 2
}

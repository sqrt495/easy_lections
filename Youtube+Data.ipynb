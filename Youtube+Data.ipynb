{
 "cells": [
  {
   "cell_type": "code",
   "execution_count": 57,
   "metadata": {
    "collapsed": false
   },
   "outputs": [],
   "source": [
    "\n",
    "import pandas as pd\n",
    "import matplotlib.pyplot as plt\n",
    "\n",
    "import seaborn as sns\n",
    "from youtube_data import youtube_search"
   ]
  },
  {
   "cell_type": "markdown",
   "metadata": {},
   "source": [
    "We can call the function youtube_search present in youtube_data.py and use the youtube_search function which returns a dictionary."
   ]
  },
  {
   "cell_type": "code",
   "execution_count": 75,
   "metadata": {
    "collapsed": false,
    "scrolled": false
   },
   "outputs": [
    {
     "name": "stdout",
     "output_type": "stream",
     "text": [
      "[]\n"
     ]
    },
    {
     "data": {
      "text/plain": [
       "['dislikeCount',\n",
       " 'tags',\n",
       " 'channelId',\n",
       " 'videoId',\n",
       " 'likeCount',\n",
       " 'commentCount',\n",
       " 'viewCount',\n",
       " 'title',\n",
       " 'channelTitle',\n",
       " 'favoriteCount',\n",
       " 'categoryId']"
      ]
     },
     "execution_count": 75,
     "metadata": {},
     "output_type": "execute_result"
    }
   ],
   "source": [
    "test = youtube_search(\"Imagine Dragons\")\n",
    "test.keys()\n"
   ]
  },
  {
   "cell_type": "markdown",
   "metadata": {},
   "source": [
    "The above function searches for the given Keyword in YouTube, gets the statistics, tags and category details for each video. "
   ]
  },
  {
   "cell_type": "code",
   "execution_count": 73,
   "metadata": {
    "collapsed": false
   },
   "outputs": [
    {
     "data": {
      "text/plain": [
       "[u'32459', u'109615', u'119301', u'128423', u'255675']"
      ]
     },
     "execution_count": 73,
     "metadata": {},
     "output_type": "execute_result"
    }
   ],
   "source": [
    "test['commentCount'][:5]\n"
   ]
  },
  {
   "cell_type": "code",
   "execution_count": 63,
   "metadata": {
    "collapsed": false
   },
   "outputs": [
    {
     "data": {
      "text/html": [
       "<div>\n",
       "<style>\n",
       "    .dataframe thead tr:only-child th {\n",
       "        text-align: right;\n",
       "    }\n",
       "\n",
       "    .dataframe thead th {\n",
       "        text-align: left;\n",
       "    }\n",
       "\n",
       "    .dataframe tbody tr th {\n",
       "        vertical-align: top;\n",
       "    }\n",
       "</style>\n",
       "<table border=\"1\" class=\"dataframe\">\n",
       "  <thead>\n",
       "    <tr style=\"text-align: right;\">\n",
       "      <th></th>\n",
       "      <th>categoryId</th>\n",
       "      <th>channelId</th>\n",
       "      <th>channelTitle</th>\n",
       "      <th>commentCount</th>\n",
       "      <th>dislikeCount</th>\n",
       "      <th>favoriteCount</th>\n",
       "      <th>likeCount</th>\n",
       "      <th>tags</th>\n",
       "      <th>title</th>\n",
       "      <th>videoId</th>\n",
       "      <th>viewCount</th>\n",
       "    </tr>\n",
       "  </thead>\n",
       "  <tbody>\n",
       "    <tr>\n",
       "      <th>0</th>\n",
       "      <td>10</td>\n",
       "      <td>UCpx_k19S2vUutWUUM9qmXEg</td>\n",
       "      <td>ImagineDragonsVEVO</td>\n",
       "      <td>32459</td>\n",
       "      <td>11980</td>\n",
       "      <td>0</td>\n",
       "      <td>971475</td>\n",
       "      <td>[Imagine Dragons, ImagineDragons, Whatever It ...</td>\n",
       "      <td>Imagine Dragons - Whatever It Takes</td>\n",
       "      <td>gOsM-DYAEhY</td>\n",
       "      <td>42918016</td>\n",
       "    </tr>\n",
       "    <tr>\n",
       "      <th>1</th>\n",
       "      <td>10</td>\n",
       "      <td>UCpx_k19S2vUutWUUM9qmXEg</td>\n",
       "      <td>ImagineDragonsVEVO</td>\n",
       "      <td>109615</td>\n",
       "      <td>98989</td>\n",
       "      <td>0</td>\n",
       "      <td>2374679</td>\n",
       "      <td>[Imagine, Dragons, Thunder, KIDinaKORNER/Inter...</td>\n",
       "      <td>Imagine Dragons - Thunder</td>\n",
       "      <td>fKopy74weus</td>\n",
       "      <td>282610178</td>\n",
       "    </tr>\n",
       "    <tr>\n",
       "      <th>2</th>\n",
       "      <td>10</td>\n",
       "      <td>UCpx_k19S2vUutWUUM9qmXEg</td>\n",
       "      <td>ImagineDragonsVEVO</td>\n",
       "      <td>119301</td>\n",
       "      <td>71033</td>\n",
       "      <td>0</td>\n",
       "      <td>2941112</td>\n",
       "      <td>[Imagine, Dragons, Believer, KIDinaKORNER/Inte...</td>\n",
       "      <td>Imagine Dragons - Believer</td>\n",
       "      <td>7wtfhZwyrcc</td>\n",
       "      <td>293408548</td>\n",
       "    </tr>\n",
       "    <tr>\n",
       "      <th>3</th>\n",
       "      <td>10</td>\n",
       "      <td>UCpx_k19S2vUutWUUM9qmXEg</td>\n",
       "      <td>ImagineDragonsVEVO</td>\n",
       "      <td>128423</td>\n",
       "      <td>79114</td>\n",
       "      <td>0</td>\n",
       "      <td>3312138</td>\n",
       "      <td>[Imagine Dragons, Demons, Interscope, Alternat...</td>\n",
       "      <td>Imagine Dragons - Demons (Official)</td>\n",
       "      <td>mWRsgZuwf_8</td>\n",
       "      <td>583896530</td>\n",
       "    </tr>\n",
       "    <tr>\n",
       "      <th>4</th>\n",
       "      <td>10</td>\n",
       "      <td>UCpx_k19S2vUutWUUM9qmXEg</td>\n",
       "      <td>ImagineDragonsVEVO</td>\n",
       "      <td>255675</td>\n",
       "      <td>138016</td>\n",
       "      <td>0</td>\n",
       "      <td>4346270</td>\n",
       "      <td>[Imagine, Dragons, Radioactive, Interscope, Al...</td>\n",
       "      <td>Imagine Dragons - Radioactive</td>\n",
       "      <td>ktvTqknDobU</td>\n",
       "      <td>779305843</td>\n",
       "    </tr>\n",
       "  </tbody>\n",
       "</table>\n",
       "</div>"
      ],
      "text/plain": [
       "  categoryId                 channelId        channelTitle commentCount  \\\n",
       "0         10  UCpx_k19S2vUutWUUM9qmXEg  ImagineDragonsVEVO        32459   \n",
       "1         10  UCpx_k19S2vUutWUUM9qmXEg  ImagineDragonsVEVO       109615   \n",
       "2         10  UCpx_k19S2vUutWUUM9qmXEg  ImagineDragonsVEVO       119301   \n",
       "3         10  UCpx_k19S2vUutWUUM9qmXEg  ImagineDragonsVEVO       128423   \n",
       "4         10  UCpx_k19S2vUutWUUM9qmXEg  ImagineDragonsVEVO       255675   \n",
       "\n",
       "  dislikeCount favoriteCount likeCount  \\\n",
       "0        11980             0    971475   \n",
       "1        98989             0   2374679   \n",
       "2        71033             0   2941112   \n",
       "3        79114             0   3312138   \n",
       "4       138016             0   4346270   \n",
       "\n",
       "                                                tags  \\\n",
       "0  [Imagine Dragons, ImagineDragons, Whatever It ...   \n",
       "1  [Imagine, Dragons, Thunder, KIDinaKORNER/Inter...   \n",
       "2  [Imagine, Dragons, Believer, KIDinaKORNER/Inte...   \n",
       "3  [Imagine Dragons, Demons, Interscope, Alternat...   \n",
       "4  [Imagine, Dragons, Radioactive, Interscope, Al...   \n",
       "\n",
       "                                 title      videoId  viewCount  \n",
       "0  Imagine Dragons - Whatever It Takes  gOsM-DYAEhY   42918016  \n",
       "1            Imagine Dragons - Thunder  fKopy74weus  282610178  \n",
       "2           Imagine Dragons - Believer  7wtfhZwyrcc  293408548  \n",
       "3  Imagine Dragons - Demons (Official)  mWRsgZuwf_8  583896530  \n",
       "4        Imagine Dragons - Radioactive  ktvTqknDobU  779305843  "
      ]
     },
     "execution_count": 63,
     "metadata": {},
     "output_type": "execute_result"
    }
   ],
   "source": [
    "df = pd.DataFrame(data=test)\n",
    "df.head()"
   ]
  },
  {
   "cell_type": "markdown",
   "metadata": {},
   "source": [
    "Rearranging the columns in the below cell"
   ]
  },
  {
   "cell_type": "code",
   "execution_count": 76,
   "metadata": {
    "collapsed": false
   },
   "outputs": [
    {
     "data": {
      "text/html": [
       "<div>\n",
       "<style>\n",
       "    .dataframe thead tr:only-child th {\n",
       "        text-align: right;\n",
       "    }\n",
       "\n",
       "    .dataframe thead th {\n",
       "        text-align: left;\n",
       "    }\n",
       "\n",
       "    .dataframe tbody tr th {\n",
       "        vertical-align: top;\n",
       "    }\n",
       "</style>\n",
       "<table border=\"1\" class=\"dataframe\">\n",
       "  <thead>\n",
       "    <tr style=\"text-align: right;\">\n",
       "      <th></th>\n",
       "      <th>Title</th>\n",
       "      <th>viewCount</th>\n",
       "      <th>channelTitle</th>\n",
       "      <th>commentCount</th>\n",
       "      <th>likeCount</th>\n",
       "      <th>dislikeCount</th>\n",
       "      <th>tags</th>\n",
       "      <th>favoriteCount</th>\n",
       "      <th>videoId</th>\n",
       "      <th>channelId</th>\n",
       "      <th>categoryId</th>\n",
       "    </tr>\n",
       "  </thead>\n",
       "  <tbody>\n",
       "    <tr>\n",
       "      <th>0</th>\n",
       "      <td>Imagine Dragons - Whatever It Takes</td>\n",
       "      <td>42918016</td>\n",
       "      <td>ImagineDragonsVEVO</td>\n",
       "      <td>32459</td>\n",
       "      <td>971475</td>\n",
       "      <td>11980</td>\n",
       "      <td>[Imagine Dragons, ImagineDragons, Whatever It ...</td>\n",
       "      <td>0</td>\n",
       "      <td>gOsM-DYAEhY</td>\n",
       "      <td>UCpx_k19S2vUutWUUM9qmXEg</td>\n",
       "      <td>10</td>\n",
       "    </tr>\n",
       "    <tr>\n",
       "      <th>1</th>\n",
       "      <td>Imagine Dragons - Thunder</td>\n",
       "      <td>282610178</td>\n",
       "      <td>ImagineDragonsVEVO</td>\n",
       "      <td>109615</td>\n",
       "      <td>2374679</td>\n",
       "      <td>98989</td>\n",
       "      <td>[Imagine, Dragons, Thunder, KIDinaKORNER/Inter...</td>\n",
       "      <td>0</td>\n",
       "      <td>fKopy74weus</td>\n",
       "      <td>UCpx_k19S2vUutWUUM9qmXEg</td>\n",
       "      <td>10</td>\n",
       "    </tr>\n",
       "    <tr>\n",
       "      <th>2</th>\n",
       "      <td>Imagine Dragons - Believer</td>\n",
       "      <td>293408548</td>\n",
       "      <td>ImagineDragonsVEVO</td>\n",
       "      <td>119301</td>\n",
       "      <td>2941112</td>\n",
       "      <td>71033</td>\n",
       "      <td>[Imagine, Dragons, Believer, KIDinaKORNER/Inte...</td>\n",
       "      <td>0</td>\n",
       "      <td>7wtfhZwyrcc</td>\n",
       "      <td>UCpx_k19S2vUutWUUM9qmXEg</td>\n",
       "      <td>10</td>\n",
       "    </tr>\n",
       "    <tr>\n",
       "      <th>3</th>\n",
       "      <td>Imagine Dragons - Demons (Official)</td>\n",
       "      <td>583896530</td>\n",
       "      <td>ImagineDragonsVEVO</td>\n",
       "      <td>128423</td>\n",
       "      <td>3312138</td>\n",
       "      <td>79114</td>\n",
       "      <td>[Imagine Dragons, Demons, Interscope, Alternat...</td>\n",
       "      <td>0</td>\n",
       "      <td>mWRsgZuwf_8</td>\n",
       "      <td>UCpx_k19S2vUutWUUM9qmXEg</td>\n",
       "      <td>10</td>\n",
       "    </tr>\n",
       "    <tr>\n",
       "      <th>4</th>\n",
       "      <td>Imagine Dragons - Radioactive</td>\n",
       "      <td>779305843</td>\n",
       "      <td>ImagineDragonsVEVO</td>\n",
       "      <td>255675</td>\n",
       "      <td>4346270</td>\n",
       "      <td>138016</td>\n",
       "      <td>[Imagine, Dragons, Radioactive, Interscope, Al...</td>\n",
       "      <td>0</td>\n",
       "      <td>ktvTqknDobU</td>\n",
       "      <td>UCpx_k19S2vUutWUUM9qmXEg</td>\n",
       "      <td>10</td>\n",
       "    </tr>\n",
       "  </tbody>\n",
       "</table>\n",
       "</div>"
      ],
      "text/plain": [
       "                                 Title  viewCount        channelTitle  \\\n",
       "0  Imagine Dragons - Whatever It Takes   42918016  ImagineDragonsVEVO   \n",
       "1            Imagine Dragons - Thunder  282610178  ImagineDragonsVEVO   \n",
       "2           Imagine Dragons - Believer  293408548  ImagineDragonsVEVO   \n",
       "3  Imagine Dragons - Demons (Official)  583896530  ImagineDragonsVEVO   \n",
       "4        Imagine Dragons - Radioactive  779305843  ImagineDragonsVEVO   \n",
       "\n",
       "  commentCount likeCount dislikeCount  \\\n",
       "0        32459    971475        11980   \n",
       "1       109615   2374679        98989   \n",
       "2       119301   2941112        71033   \n",
       "3       128423   3312138        79114   \n",
       "4       255675   4346270       138016   \n",
       "\n",
       "                                                tags favoriteCount  \\\n",
       "0  [Imagine Dragons, ImagineDragons, Whatever It ...             0   \n",
       "1  [Imagine, Dragons, Thunder, KIDinaKORNER/Inter...             0   \n",
       "2  [Imagine, Dragons, Believer, KIDinaKORNER/Inte...             0   \n",
       "3  [Imagine Dragons, Demons, Interscope, Alternat...             0   \n",
       "4  [Imagine, Dragons, Radioactive, Interscope, Al...             0   \n",
       "\n",
       "       videoId                 channelId categoryId  \n",
       "0  gOsM-DYAEhY  UCpx_k19S2vUutWUUM9qmXEg         10  \n",
       "1  fKopy74weus  UCpx_k19S2vUutWUUM9qmXEg         10  \n",
       "2  7wtfhZwyrcc  UCpx_k19S2vUutWUUM9qmXEg         10  \n",
       "3  mWRsgZuwf_8  UCpx_k19S2vUutWUUM9qmXEg         10  \n",
       "4  ktvTqknDobU  UCpx_k19S2vUutWUUM9qmXEg         10  "
      ]
     },
     "execution_count": 76,
     "metadata": {},
     "output_type": "execute_result"
    }
   ],
   "source": [
    "df1 = df[['title','viewCount','channelTitle','commentCount','likeCount','dislikeCount','tags','favoriteCount','videoId','channelId','categoryId']]\n",
    "df1.columns = ['Title','viewCount','channelTitle','commentCount','likeCount','dislikeCount','tags','favoriteCount','videoId','channelId','categoryId']\n",
    "df1.head()"
   ]
  },
  {
   "cell_type": "markdown",
   "metadata": {},
   "source": [
    "We need to convert the numbers from string to integer."
   ]
  },
  {
   "cell_type": "code",
   "execution_count": 67,
   "metadata": {
    "collapsed": false
   },
   "outputs": [
    {
     "data": {
      "text/html": [
       "<div>\n",
       "<style>\n",
       "    .dataframe thead tr:only-child th {\n",
       "        text-align: right;\n",
       "    }\n",
       "\n",
       "    .dataframe thead th {\n",
       "        text-align: left;\n",
       "    }\n",
       "\n",
       "    .dataframe tbody tr th {\n",
       "        vertical-align: top;\n",
       "    }\n",
       "</style>\n",
       "<table border=\"1\" class=\"dataframe\">\n",
       "  <thead>\n",
       "    <tr style=\"text-align: right;\">\n",
       "      <th></th>\n",
       "      <th>Title</th>\n",
       "      <th>viewCount</th>\n",
       "      <th>channelTitle</th>\n",
       "      <th>commentCount</th>\n",
       "      <th>likeCount</th>\n",
       "      <th>dislikeCount</th>\n",
       "      <th>tags</th>\n",
       "      <th>favoriteCount</th>\n",
       "      <th>videoId</th>\n",
       "      <th>channelId</th>\n",
       "      <th>categoryId</th>\n",
       "    </tr>\n",
       "  </thead>\n",
       "  <tbody>\n",
       "    <tr>\n",
       "      <th>0</th>\n",
       "      <td>Imagine Dragons - Whatever It Takes</td>\n",
       "      <td>42918016</td>\n",
       "      <td>ImagineDragonsVEVO</td>\n",
       "      <td>32459</td>\n",
       "      <td>971475</td>\n",
       "      <td>11980</td>\n",
       "      <td>[Imagine Dragons, ImagineDragons, Whatever It ...</td>\n",
       "      <td>0</td>\n",
       "      <td>gOsM-DYAEhY</td>\n",
       "      <td>UCpx_k19S2vUutWUUM9qmXEg</td>\n",
       "      <td>10</td>\n",
       "    </tr>\n",
       "    <tr>\n",
       "      <th>1</th>\n",
       "      <td>Imagine Dragons - Thunder</td>\n",
       "      <td>282610178</td>\n",
       "      <td>ImagineDragonsVEVO</td>\n",
       "      <td>109615</td>\n",
       "      <td>2374679</td>\n",
       "      <td>98989</td>\n",
       "      <td>[Imagine, Dragons, Thunder, KIDinaKORNER/Inter...</td>\n",
       "      <td>0</td>\n",
       "      <td>fKopy74weus</td>\n",
       "      <td>UCpx_k19S2vUutWUUM9qmXEg</td>\n",
       "      <td>10</td>\n",
       "    </tr>\n",
       "    <tr>\n",
       "      <th>2</th>\n",
       "      <td>Imagine Dragons - Believer</td>\n",
       "      <td>293408548</td>\n",
       "      <td>ImagineDragonsVEVO</td>\n",
       "      <td>119301</td>\n",
       "      <td>2941112</td>\n",
       "      <td>71033</td>\n",
       "      <td>[Imagine, Dragons, Believer, KIDinaKORNER/Inte...</td>\n",
       "      <td>0</td>\n",
       "      <td>7wtfhZwyrcc</td>\n",
       "      <td>UCpx_k19S2vUutWUUM9qmXEg</td>\n",
       "      <td>10</td>\n",
       "    </tr>\n",
       "    <tr>\n",
       "      <th>3</th>\n",
       "      <td>Imagine Dragons - Demons (Official)</td>\n",
       "      <td>583896530</td>\n",
       "      <td>ImagineDragonsVEVO</td>\n",
       "      <td>128423</td>\n",
       "      <td>3312138</td>\n",
       "      <td>79114</td>\n",
       "      <td>[Imagine Dragons, Demons, Interscope, Alternat...</td>\n",
       "      <td>0</td>\n",
       "      <td>mWRsgZuwf_8</td>\n",
       "      <td>UCpx_k19S2vUutWUUM9qmXEg</td>\n",
       "      <td>10</td>\n",
       "    </tr>\n",
       "    <tr>\n",
       "      <th>4</th>\n",
       "      <td>Imagine Dragons - Radioactive</td>\n",
       "      <td>779305843</td>\n",
       "      <td>ImagineDragonsVEVO</td>\n",
       "      <td>255675</td>\n",
       "      <td>4346270</td>\n",
       "      <td>138016</td>\n",
       "      <td>[Imagine, Dragons, Radioactive, Interscope, Al...</td>\n",
       "      <td>0</td>\n",
       "      <td>ktvTqknDobU</td>\n",
       "      <td>UCpx_k19S2vUutWUUM9qmXEg</td>\n",
       "      <td>10</td>\n",
       "    </tr>\n",
       "  </tbody>\n",
       "</table>\n",
       "</div>"
      ],
      "text/plain": [
       "                                 Title  viewCount        channelTitle  \\\n",
       "0  Imagine Dragons - Whatever It Takes   42918016  ImagineDragonsVEVO   \n",
       "1            Imagine Dragons - Thunder  282610178  ImagineDragonsVEVO   \n",
       "2           Imagine Dragons - Believer  293408548  ImagineDragonsVEVO   \n",
       "3  Imagine Dragons - Demons (Official)  583896530  ImagineDragonsVEVO   \n",
       "4        Imagine Dragons - Radioactive  779305843  ImagineDragonsVEVO   \n",
       "\n",
       "   commentCount  likeCount  dislikeCount  \\\n",
       "0         32459     971475         11980   \n",
       "1        109615    2374679         98989   \n",
       "2        119301    2941112         71033   \n",
       "3        128423    3312138         79114   \n",
       "4        255675    4346270        138016   \n",
       "\n",
       "                                                tags  favoriteCount  \\\n",
       "0  [Imagine Dragons, ImagineDragons, Whatever It ...              0   \n",
       "1  [Imagine, Dragons, Thunder, KIDinaKORNER/Inter...              0   \n",
       "2  [Imagine, Dragons, Believer, KIDinaKORNER/Inte...              0   \n",
       "3  [Imagine Dragons, Demons, Interscope, Alternat...              0   \n",
       "4  [Imagine, Dragons, Radioactive, Interscope, Al...              0   \n",
       "\n",
       "       videoId                 channelId categoryId  \n",
       "0  gOsM-DYAEhY  UCpx_k19S2vUutWUUM9qmXEg         10  \n",
       "1  fKopy74weus  UCpx_k19S2vUutWUUM9qmXEg         10  \n",
       "2  7wtfhZwyrcc  UCpx_k19S2vUutWUUM9qmXEg         10  \n",
       "3  mWRsgZuwf_8  UCpx_k19S2vUutWUUM9qmXEg         10  \n",
       "4  ktvTqknDobU  UCpx_k19S2vUutWUUM9qmXEg         10  "
      ]
     },
     "execution_count": 67,
     "metadata": {},
     "output_type": "execute_result"
    }
   ],
   "source": [
    "import numpy as np\n",
    "numeric_dtype = ['viewCount','commentCount','likeCount','dislikeCount','favoriteCount']\n",
    "for i in numeric_dtype:\n",
    "    df1[i] = df[i].astype(int)\n",
    "\n",
    "ImagineDragons = df1[df1['channelTitle']=='ImagineDragonsVEVO']\n",
    "ImagineDragons.head()\n"
   ]
  },
  {
   "cell_type": "markdown",
   "metadata": {
    "collapsed": false
   },
   "source": [
    "Now, we have the data ready in our favourite DataFrame format, world is your oyster. Enjoy testing all the craziest hypothesis you have ever thought of."
   ]
  },
  {
   "cell_type": "code",
   "execution_count": 70,
   "metadata": {
    "collapsed": false
   },
   "outputs": [
    {
     "data": {
      "image/png": "[encoded data removed]",
      "text/plain": [
       "<matplotlib.figure.Figure at 0xa1422e8>"
      ]
     },
     "metadata": {},
     "output_type": "display_data"
    }
   ],
   "source": [
    "ImagineDragons = ImagineDragons.sort_values(ascending=False,by='viewCount')\n",
    "plt.bar(range(ImagineDragons.shape[0]),ImagineDragons['viewCount'])\n",
    "plt.xticks(range(ImagineDragons.shape[0]),ImagineDragons['Title'],rotation=90)\n",
    "plt.ylabel('viewCount in 100 millions')\n",
    "\n",
    "plt.show()"
   ]
  }
 ],
 "metadata": {
  "kernelspec": {
   "display_name": "Python 2",
   "language": "python",
   "name": "python2"
  },
  "language_info": {
   "codemirror_mode": {
    "name": "ipython",
    "version": 2
   },
   "file_extension": ".py",
   "mimetype": "text/x-python",
   "name": "python",
   "nbconvert_exporter": "python",
   "pygments_lexer": "ipython2",
   "version": "2.7.13"
  }
 },
 "nbformat": 4,
 "nbformat_minor": 2
}
